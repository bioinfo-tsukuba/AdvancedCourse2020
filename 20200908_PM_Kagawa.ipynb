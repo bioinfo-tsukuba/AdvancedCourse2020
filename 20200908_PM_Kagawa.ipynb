{
  "nbformat": 4,
  "nbformat_minor": 0,
  "metadata": {
    "colab": {
      "name": "20200908_PM_Kagawa.ipynb",
      "provenance": [],
      "collapsed_sections": [],
      "authorship_tag": "ABX9TyMh+LAv1ILddErzxGDN0lww",
      "include_colab_link": true
    },
    "kernelspec": {
      "name": "python3",
      "display_name": "Python 3"
    }
  },
  "cells": [
    {
      "cell_type": "markdown",
      "metadata": {
        "id": "view-in-github",
        "colab_type": "text"
      },
      "source": [
        "<a href=\"https://colab.research.google.com/github/bioinfo-tsukuba/AdvancedCourse2020/blob/master/20200908_PM_Kagawa.ipynb\" target=\"_parent\"><img src=\"https://colab.research.google.com/assets/colab-badge.svg\" alt=\"Open In Colab\"/></a>"
      ]
    },
    {
      "cell_type": "markdown",
      "metadata": {
        "id": "3yNR-eMYwc4J",
        "colab_type": "text"
      },
      "source": [
        "# 1日目午後_目次\n",
        "## 1. エクセルで描くと少し面倒なグラフをpythonで描いてみましょう\n",
        "## 2. データを見て、グラフをpythonで描いてみましょう\n",
        "### 2-1. どのように図示すると意味がありそうか、考えてみましょう\n",
        "### 2-2. こだわりのグラフを、発表していただきます。作ったグラフは成果物として提出していただくので頑張ってください。\n",
        "## 3. (余力のある人向け)関数をちょっと変えるだけで有意差検定がすぐにできます。調べてやってみましょう。"
      ]
    },
    {
      "cell_type": "markdown",
      "metadata": {
        "id": "Dc6i9AlFxliY",
        "colab_type": "text"
      },
      "source": [
        "## 1. エクセルで描くと少し疲れるグラフをpythonで描いてみましょう"
      ]
    },
    {
      "cell_type": "markdown",
      "metadata": {
        "id": "FgpSKTmPHo5I",
        "colab_type": "text"
      },
      "source": [
        "### 1-1. 2つの病院で糖尿病患者の血糖値を調べる研究を行いました。病院間で、糖尿病患者の血糖値に違いがあるか調査したい。"
      ]
    },
    {
      "cell_type": "code",
      "metadata": {
        "id": "JvhfJTeNHcpz",
        "colab_type": "code",
        "colab": {}
      },
      "source": [
        "import matplotlib.pyplot as plt\n",
        "import numpy as np\n",
        " \n",
        "hospital1 = [74, 73, 81, 88, 77, 75, 47, 77, 90, 68, 61, 77, 75, 71, 76, 98, 90, 80, 81, 85]  # 病院1の患者の血糖値\n",
        "hospital2 = [81, 108, 105, 91, 111, 105, 101, 107, 91, 113,  99,  99,  97, 109, 117, 106, 100, 101, 97, 95]  # 病院2の患者の血糖値\n",
        "\n",
        "print(hospital1)"
      ],
      "execution_count": null,
      "outputs": []
    },
    {
      "cell_type": "markdown",
      "metadata": {
        "id": "634FnMNcyDXF",
        "colab_type": "text"
      },
      "source": [
        "### ヒストグラム"
      ]
    },
    {
      "cell_type": "code",
      "metadata": {
        "id": "lVyd3SttwZzB",
        "colab_type": "code",
        "colab": {}
      },
      "source": [
        "plt.hist(hospital1)"
      ],
      "execution_count": null,
      "outputs": []
    },
    {
      "cell_type": "code",
      "metadata": {
        "id": "d_K0FQJrzU6P",
        "colab_type": "code",
        "colab": {}
      },
      "source": [
        "plt.hist(hospital1, range=(70, 150))"
      ],
      "execution_count": null,
      "outputs": []
    },
    {
      "cell_type": "code",
      "metadata": {
        "id": "BfgOOeuqzU9n",
        "colab_type": "code",
        "colab": {}
      },
      "source": [
        "plt.hist(hospital1, range=(70, 150), color = \"royalblue\")"
      ],
      "execution_count": null,
      "outputs": []
    },
    {
      "cell_type": "code",
      "metadata": {
        "id": "320qOLsZzVK7",
        "colab_type": "code",
        "colab": {}
      },
      "source": [
        "plt.hist([hospital1, hospital2], range=(70, 150), color=['royalblue', 'lime'])"
      ],
      "execution_count": null,
      "outputs": []
    },
    {
      "cell_type": "code",
      "metadata": {
        "id": "ispSdyXKzVKF",
        "colab_type": "code",
        "colab": {}
      },
      "source": [
        "plt.hist([hospital1, hospital2], range=(70, 150), color=['r', 'y'], align=\"right\")"
      ],
      "execution_count": null,
      "outputs": []
    },
    {
      "cell_type": "markdown",
      "metadata": {
        "id": "7wwIiLEu-d5d",
        "colab_type": "text"
      },
      "source": [
        "#### 余力のある人向けの小課題\n",
        "#### 上書きされてしまうので、コードはコピーアンドペーストすることをオススメします。\n",
        "##### 色を好きなものに変えてみましょう\n",
        "###### 参考：\"r\"とすると赤になるし、'#d7ffff'にするとおしゃれになります\n",
        "##### 入力データを書き換えてみて、グラフが変わることを確認してみましょう"
      ]
    },
    {
      "cell_type": "code",
      "metadata": {
        "id": "PBQt1hK12fjM",
        "colab_type": "code",
        "colab": {}
      },
      "source": [
        ""
      ],
      "execution_count": null,
      "outputs": []
    },
    {
      "cell_type": "markdown",
      "metadata": {
        "id": "JAswowltBeFp",
        "colab_type": "text"
      },
      "source": [
        "#### ヴァイオリンプロット"
      ]
    },
    {
      "cell_type": "code",
      "metadata": {
        "id": "S9GF0ZUY-Y_e",
        "colab_type": "code",
        "colab": {}
      },
      "source": [
        "plt.violinplot([hospital1, hospital2])\n",
        "plt.xlabel('hospital')\n",
        "plt.ylabel('glucose')"
      ],
      "execution_count": null,
      "outputs": []
    },
    {
      "cell_type": "markdown",
      "metadata": {
        "id": "0cPPxewNCizh",
        "colab_type": "text"
      },
      "source": [
        "#### 余力のある人向けの小課題\n",
        "##### そもそもヴァイオリンプロットとは何を図示しているのかググってみましょう。\n",
        "##### 箱ひげ図との違いをググってみましょう。\n",
        "##### 　　　　　　　　ヴァイオリンというよりもアジの開きとかエイとか言わない"
      ]
    },
    {
      "cell_type": "code",
      "metadata": {
        "id": "FuzzTvLxA1Jt",
        "colab_type": "code",
        "colab": {}
      },
      "source": [
        ""
      ],
      "execution_count": null,
      "outputs": []
    },
    {
      "cell_type": "code",
      "metadata": {
        "id": "_ICqYlsn-adW",
        "colab_type": "code",
        "colab": {}
      },
      "source": [
        ""
      ],
      "execution_count": null,
      "outputs": []
    },
    {
      "cell_type": "code",
      "metadata": {
        "id": "DSIfwGAkDo2v",
        "colab_type": "code",
        "colab": {}
      },
      "source": [
        ""
      ],
      "execution_count": null,
      "outputs": []
    },
    {
      "cell_type": "markdown",
      "metadata": {
        "id": "8aJTxc3h-VxF",
        "colab_type": "text"
      },
      "source": [
        "### 1-2. 1つの病院でたくさんの糖尿病患者の、血糖値とHbA1cの値を測定しました。患者は検査値のパターンでいくつかに分類できそう。"
      ]
    },
    {
      "cell_type": "code",
      "metadata": {
        "id": "DuyiUAk_-W5M",
        "colab_type": "code",
        "colab": {}
      },
      "source": [
        "glu = [141, 108, 105, 91, 131, 105, 101, 137, 91, 113,  99,  99,  97, 109, 117, 106, 150, 161, 147, 135]  # 20人の患者の血糖値\n",
        "HbA1c = [8.8, 4.2, 4.5, 4.9, 6.7, 6.1, 6.4, 7.5, 6.9, 6.7, 11.2, 10.2, 7.5, 7.9, 9.7, 7.1, 7.4, 8.5, 9.9, 8.7] # 20人の患者のHbA1cの値"
      ],
      "execution_count": null,
      "outputs": []
    },
    {
      "cell_type": "markdown",
      "metadata": {
        "id": "cFhMpwLUH2tr",
        "colab_type": "text"
      },
      "source": [
        "#### 散布図"
      ]
    },
    {
      "cell_type": "code",
      "metadata": {
        "id": "2NPi3gBk-W2u",
        "colab_type": "code",
        "colab": {}
      },
      "source": [
        "plt.scatter(glu,HbA1c)\n",
        "plt.xlabel('glucose')\n",
        "plt.ylabel('HbA1c')"
      ],
      "execution_count": null,
      "outputs": []
    },
    {
      "cell_type": "code",
      "metadata": {
        "id": "fVZsKXQM-W0r",
        "colab_type": "code",
        "colab": {}
      },
      "source": [
        "plt.scatter(glu,HbA1c, s= 200, c=\"yellow\", marker=\"*\", alpha=0.5, linewidths=\"2\", edgecolors=\"orange\")\n",
        "plt.xlabel('glucose')\n",
        "plt.ylabel('HbA1c')"
      ],
      "execution_count": null,
      "outputs": []
    },
    {
      "cell_type": "code",
      "metadata": {
        "id": "dF30rYqx-WzI",
        "colab_type": "code",
        "colab": {}
      },
      "source": [
        ""
      ],
      "execution_count": null,
      "outputs": []
    },
    {
      "cell_type": "markdown",
      "metadata": {
        "id": "NS5Repr4OdNx",
        "colab_type": "text"
      },
      "source": [
        "### k-means(クラスタリング)"
      ]
    },
    {
      "cell_type": "code",
      "metadata": {
        "id": "JAM12OqYJpGA",
        "colab_type": "code",
        "colab": {}
      },
      "source": [
        "from matplotlib import pyplot as plt\n",
        "from sklearn import datasets, preprocessing\n",
        "from sklearn.cluster import KMeans\n",
        "import numpy as np \n",
        "import pandas as pd"
      ],
      "execution_count": null,
      "outputs": []
    },
    {
      "cell_type": "code",
      "metadata": {
        "id": "HumNSU3dJpDe",
        "colab_type": "code",
        "colab": {}
      },
      "source": [
        "df = pd.DataFrame(data=[glu,HbA1c], index=['glu','HbA1c'])\n",
        "df2 = df.T\n",
        "#print(df2.head())\n",
        "\n",
        "kmeans_model = KMeans(n_clusters=3, random_state=10).fit(df2)\n",
        "labels = kmeans_model.labels_\n",
        "#print(labels)\n",
        "\n",
        "LABEL_COLOR_MAP = {0:'#00FF00', 1:'#FF0000', 2:'#0000FF'}\n",
        "colors = [LABEL_COLOR_MAP[x] for x in labels]\n",
        "plt.scatter(glu,HbA1c, c=colors)"
      ],
      "execution_count": null,
      "outputs": []
    },
    {
      "cell_type": "code",
      "metadata": {
        "id": "TsX9qhosM3Dr",
        "colab_type": "code",
        "colab": {}
      },
      "source": [
        "df = pd.DataFrame(data=[glu,HbA1c], index=['glu','HbA1c'])\n",
        "df2 = df.T\n",
        "#print(df2.head())\n",
        "\n",
        "kmeans_model = KMeans(n_clusters=2, random_state=10).fit(df2)\n",
        "labels = kmeans_model.labels_\n",
        "#print(labels)\n",
        "\n",
        "LABEL_COLOR_MAP = {0:'#00FF00', 1:'#FF0000'}\n",
        "colors = [LABEL_COLOR_MAP[x] for x in labels]\n",
        "plt.scatter(glu,HbA1c, c=colors, marker=\"*\")"
      ],
      "execution_count": null,
      "outputs": []
    },
    {
      "cell_type": "code",
      "metadata": {
        "id": "vM_lt5SvM2_h",
        "colab_type": "code",
        "colab": {}
      },
      "source": [
        "df = pd.DataFrame(data=[glu,HbA1c], index=['glu','HbA1c'])\n",
        "df2 = df.T\n",
        "#print(df2.head())\n",
        "\n",
        "kmeans_model = KMeans(n_clusters=4, random_state=10).fit(df2)\n",
        "labels = kmeans_model.labels_\n",
        "#print(labels)\n",
        "\n",
        "LABEL_COLOR_MAP = {0:'b', 1:'r', 2:'g', 3:'y'}\n",
        "colors = [LABEL_COLOR_MAP[x] for x in labels]\n",
        "plt.scatter(glu,HbA1c, c=colors, marker=\"*\")\n",
        "plt.xlabel('glucose')\n",
        "plt.ylabel('HbA1c')"
      ],
      "execution_count": null,
      "outputs": []
    },
    {
      "cell_type": "code",
      "metadata": {
        "id": "CpGmeRd2bnS9",
        "colab_type": "code",
        "colab": {}
      },
      "source": [
        ""
      ],
      "execution_count": null,
      "outputs": []
    },
    {
      "cell_type": "code",
      "metadata": {
        "id": "1ORDhCPlbnak",
        "colab_type": "code",
        "colab": {}
      },
      "source": [
        ""
      ],
      "execution_count": null,
      "outputs": []
    },
    {
      "cell_type": "markdown",
      "metadata": {
        "id": "t1UJt95AYLw-",
        "colab_type": "text"
      },
      "source": [
        "#### 発展的な内容：ネットワーク分析"
      ]
    },
    {
      "cell_type": "code",
      "metadata": {
        "id": "hwjhSnqWYLOi",
        "colab_type": "code",
        "colab": {}
      },
      "source": [
        "# networkx, matplotlib の import\n",
        "import networkx as nx\n",
        "import matplotlib.pyplot as plt\n",
        "\n",
        "\n",
        "# グラフの構築\n",
        "G = nx.karate_club_graph()\n",
        "\n",
        "# レイアウトの取得\n",
        "pos = nx.spring_layout(G)\n",
        "\n",
        "# 可視化\n",
        "plt.figure(figsize=(6, 6))\n",
        "nx.draw_networkx_edges(G, pos)\n",
        "nx.draw_networkx_nodes(G, pos)\n",
        "plt.axis('off')\n",
        "plt.show()"
      ],
      "execution_count": null,
      "outputs": []
    },
    {
      "cell_type": "code",
      "metadata": {
        "id": "sh8MaRxXYLL5",
        "colab_type": "code",
        "colab": {}
      },
      "source": [
        "\n",
        "# pagerank の計算\n",
        "pr = nx.pagerank(G)\n",
        "\n",
        "# 可視化\n",
        "plt.figure(figsize=(6, 6))\n",
        "nx.draw_networkx_edges(G, pos)\n",
        "nx.draw_networkx_nodes(G, pos, node_color=list(pr.values()), cmap=plt.cm.Reds)\n",
        "plt.axis('off')\n",
        "plt.show()"
      ],
      "execution_count": null,
      "outputs": []
    },
    {
      "cell_type": "code",
      "metadata": {
        "id": "-r7KNGdsb6SK",
        "colab_type": "code",
        "colab": {}
      },
      "source": [
        ""
      ],
      "execution_count": null,
      "outputs": []
    },
    {
      "cell_type": "code",
      "metadata": {
        "id": "74zV2bvUYLJR",
        "colab_type": "code",
        "colab": {}
      },
      "source": [
        "import networkx as nx\n",
        "import community\n",
        "import matplotlib.pyplot as plt\n",
        "\n",
        "G = nx.random_graphs.powerlaw_cluster_graph(300, 1, .4)\n",
        "nx.transitivity(G)\n",
        "\n",
        "nx.draw_spring(G)\n"
      ],
      "execution_count": null,
      "outputs": []
    },
    {
      "cell_type": "code",
      "metadata": {
        "id": "0FRn9Rp4aiGg",
        "colab_type": "code",
        "colab": {}
      },
      "source": [
        "import networkx as nx\n",
        "import community\n",
        "import matplotlib.pyplot as plt\n",
        "\n",
        "G = nx.random_graphs.powerlaw_cluster_graph(300, 1, .4)\n",
        "nx.transitivity(G)\n",
        "\n",
        "#find modularity\n",
        "part = community.best_partition(G)\n",
        "mod = community.modularity(part,G)\n",
        "\n",
        "#plot, color nodes using community structure\n",
        "values = [part.get(node) for node in G.nodes()]\n",
        "nx.draw_spring(G, cmap = plt.get_cmap('jet'), node_color = values, node_size=30, with_labels=False)\n",
        "plt.show()"
      ],
      "execution_count": null,
      "outputs": []
    },
    {
      "cell_type": "code",
      "metadata": {
        "id": "BdZ-fYnqbnW8",
        "colab_type": "code",
        "colab": {}
      },
      "source": [
        ""
      ],
      "execution_count": null,
      "outputs": []
    },
    {
      "cell_type": "code",
      "metadata": {
        "id": "Nk8G19AMM29O",
        "colab_type": "code",
        "colab": {}
      },
      "source": [
        ""
      ],
      "execution_count": null,
      "outputs": []
    },
    {
      "cell_type": "markdown",
      "metadata": {
        "id": "l195iTL5RRsT",
        "colab_type": "text"
      },
      "source": [
        "## 2. データを見て、グラフをpythonで描いてみましょう\n",
        "#### 2-1. どのように図示すると意味がありそうでしょうか？\n",
        "#### 2-2. どういうことに着目して、このグラフを作成したのか、発表してください。こだわりポイント、もっとこういうグラフを描きたかった、なども教えてください。\n",
        "####      例：検査値Aと検査値Bには相関がありそうだったので、〜〜のグラフを作成してみた。でも、図示してみたら相関なさそうだった・・・"
      ]
    },
    {
      "cell_type": "markdown",
      "metadata": {
        "id": "zzJMaAp_SNqe",
        "colab_type": "text"
      },
      "source": [
        "https://docs.google.com/spreadsheets/d/1wk7rB3RyCfYA6v11wpHnFCGdCB8MJd8JvlrRnPzmsMg/edit#gid=1557257051\n",
        "\n",
        "##### ここを見て、気になる行のデータをコピペして使ってみましょう。\n",
        "##### ヒント　　　数字の間をカンマに変えるためには、ページ上部の　編集＞検索と置換\n",
        "##### 貼り付けがうまくできないときには、ctrl-v"
      ]
    },
    {
      "cell_type": "code",
      "metadata": {
        "id": "BcOZ4LMJM24V",
        "colab_type": "code",
        "colab": {}
      },
      "source": [
        ""
      ],
      "execution_count": null,
      "outputs": []
    },
    {
      "cell_type": "markdown",
      "metadata": {
        "id": "s6dl8Vi3VIQa",
        "colab_type": "text"
      },
      "source": [
        "#### 余裕がある人向け csvファイルをコピペせずに読み込む\n",
        "##### これができると、何万行(列)もあるデータでもプログラムで簡単に扱える(excelだとだんだん開かなくなる)"
      ]
    },
    {
      "cell_type": "markdown",
      "metadata": {
        "id": "OapyYgSdIIl6",
        "colab_type": "text"
      },
      "source": [
        "まず、以下のファイルをご自身のgoogle driveの下にコピーしてみてください(普通にファイルをダウンロードして、ご自身のgoogle driveにあげる。)\n",
        "\n",
        "https://drive.google.com/file/d/1IsmbnHXxmviDAi-1AKX2bebB9EHJeT15/view?\n",
        "usp=sharing\n",
        "\n",
        "1限でやった\"マウント\"というのを使うのです。"
      ]
    },
    {
      "cell_type": "code",
      "metadata": {
        "id": "H-A5XLxfzVDK",
        "colab_type": "code",
        "colab": {}
      },
      "source": [
        "import pandas as pd \n",
        "data= pd.read_csv('drive/My Drive/lab_data.csv') #ディレクトリの位置に気をつけて\n",
        "\n",
        "print(data)"
      ],
      "execution_count": null,
      "outputs": []
    },
    {
      "cell_type": "code",
      "metadata": {
        "id": "WVoF8P8QzU3n",
        "colab_type": "code",
        "colab": {}
      },
      "source": [
        "print(data['TG'])"
      ],
      "execution_count": null,
      "outputs": []
    },
    {
      "cell_type": "code",
      "metadata": {
        "id": "glXmz3EowZ4-",
        "colab_type": "code",
        "colab": {}
      },
      "source": [
        "print(data['BMI'])"
      ],
      "execution_count": null,
      "outputs": []
    },
    {
      "cell_type": "code",
      "metadata": {
        "id": "3-iJyR3oUQMM",
        "colab_type": "code",
        "colab": {}
      },
      "source": [
        "plt.scatter(data['BMI'],data['TG'])"
      ],
      "execution_count": null,
      "outputs": []
    },
    {
      "cell_type": "code",
      "metadata": {
        "id": "qKSHKepIUTn7",
        "colab_type": "code",
        "colab": {}
      },
      "source": [
        ""
      ],
      "execution_count": null,
      "outputs": []
    },
    {
      "cell_type": "markdown",
      "metadata": {
        "id": "SPLg460AG948",
        "colab_type": "text"
      },
      "source": [
        "#### 余裕がある人向け　有意差検定"
      ]
    },
    {
      "cell_type": "code",
      "metadata": {
        "id": "z9wY4mGnHdCD",
        "colab_type": "code",
        "colab": {
          "base_uri": "https://localhost:8080/",
          "height": 34
        },
        "outputId": "9476c03a-eef7-447a-a05d-c7197515144b"
      },
      "source": [
        "import numpy as np\n",
        "from scipy import stats\n",
        "\n",
        "stats.ttest_rel(hospital1, hospital2)"
      ],
      "execution_count": null,
      "outputs": [
        {
          "output_type": "execute_result",
          "data": {
            "text/plain": [
              "Ttest_relResult(statistic=-7.269247650835767, pvalue=6.744480849304317e-07)"
            ]
          },
          "metadata": {
            "tags": []
          },
          "execution_count": 78
        }
      ]
    },
    {
      "cell_type": "code",
      "metadata": {
        "id": "BkdHfpwykL48",
        "colab_type": "code",
        "colab": {}
      },
      "source": [
        ""
      ],
      "execution_count": null,
      "outputs": []
    },
    {
      "cell_type": "markdown",
      "metadata": {
        "id": "NeTFdpWdQaw-",
        "colab_type": "text"
      },
      "source": [
        "#### 余力がある人向け　　ネットワーク分析を使えそうな研究課題を考えてみましょう"
      ]
    },
    {
      "cell_type": "code",
      "metadata": {
        "id": "Vo4cusfKkL7k",
        "colab_type": "code",
        "colab": {}
      },
      "source": [
        ""
      ],
      "execution_count": null,
      "outputs": []
    }
  ]
}