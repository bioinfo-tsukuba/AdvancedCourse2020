{
  "nbformat": 4,
  "nbformat_minor": 0,
  "metadata": {
    "kernelspec": {
      "name": "python3",
      "display_name": "Python 3"
    },
    "colab": {
      "name": "07_tumor_communication.ipynb",
      "provenance": [],
      "collapsed_sections": [
        "lB9ZSn_zzNlE",
        "Hk5mxVjJzNlF"
      ],
      "toc_visible": true
    }
  },
  "cells": [
    {
      "cell_type": "markdown",
      "metadata": {
        "id": "OEe0qtb5zNj7",
        "colab_type": "text"
      },
      "source": [
        "# 実習の説明\n",
        "\n",
        "## これは何か？\n",
        "\n",
        "Jupyter notebook というRを使うためのインターフェースの一つです。\n",
        "\n",
        "- Jupyter notebook の簡単な説明（日本語） https://datumstudio.jp/blog/795\n",
        "\n",
        "特に、今回は JupyterHub という形で（みなさんの手元のPCではなく）オンラインでJupyter notebookを使う環境を提供しています。\n",
        "これは、講義などで同一の環境でできるのに便利です。\n",
        "\n",
        "\n",
        "## 何をするか？\n",
        "\n",
        "非小細胞肺癌 (non-small-cell lung cancer; NSCLC) において、腫瘍組織内に存在する間質細胞から腫瘍細胞にシグナルのクロストークが送って腫瘍が活性化される可能性を探ります。データは、NSCLCモデルマウスと野生型のマウスの肺から、セルソーターで分けたマクロファージ、単球細胞、好中球、上皮細胞のRNA-seqデータです。\n",
        "\n",
        "> このようなRNA-seqデータを、「変数が全遺伝子、条件が細胞型xマウス（野生型 or 腫瘍）、値が発現量である表」として想像できると、あとの解析がスムーズです\n",
        "\n",
        "元ネタはこちら: \n",
        "\n",
        "- Toi _et al_., Transcriptome Analysis of Individual Stromal Cell Populations Identifies Stroma-Tumor Crosstalk in Mouse Lung Cancer Model, Cell Reports (2015) http://dx.doi.org/10.1016/j.celrep.2015.01.040 \n",
        "\n",
        "ソフトウェアやアノテーションデータが著者らのウェブページで公開されています。また、NGSデータの生データや処理済みデータはGene Expression Omnibus (GEO)より公開されています。\n",
        "\n",
        "- ソフトウェアやアノテーションデータ http://209.160.41.231/u54/CCCExplorer/\n",
        "- Gene Expression Omnibus (GEO)のNGSデータのページ https://www.ncbi.nlm.nih.gov/geo/query/acc.cgi?acc=GSE59831\n",
        "\n",
        "## どうやるか？\n",
        "\n",
        "腫瘍組織内間質細胞のリガンドから腫瘍細胞の受容体へのシグナルのクロストークがあるとしたら、\n",
        "\n",
        "- 腫瘍モデルマウスでは野生型に比べ、リガンドが発現上昇しているだろう\n",
        "- 腫瘍モデルマウスの上皮組織では、そのリガンドの受容体が発現しているだろう\n",
        "\n",
        "そのようなリガンドと受容体のペアを見つけるのに必要なデータは？\n",
        "\n",
        "- 既知のリガンド-受容体ペアのデータベース（ヒト）\n",
        "- ヒト-マウスオーソログの対応表\n",
        "- 腫瘍組織内間質細胞で発現上昇がみられた遺伝子のリスト\n",
        "- 腫瘍細胞で発現上昇\n",
        "\n",
        "それらのデータを組み合わせればよさそう"
      ]
    },
    {
      "cell_type": "markdown",
      "metadata": {
        "id": "hZe8r1qfzNj8",
        "colab_type": "text"
      },
      "source": [
        "![image.png](https://ars.els-cdn.com/content/image/1-s2.0-S2211124715000650-fx1.jpg)\n",
        "(Image from http://dx.doi.org/10.1016/j.celrep.2015.01.040)"
      ]
    },
    {
      "cell_type": "markdown",
      "metadata": {
        "id": "lNvT8XYmzNj9",
        "colab_type": "text"
      },
      "source": [
        "# 練習"
      ]
    },
    {
      "cell_type": "markdown",
      "metadata": {
        "id": "t-XyDQWFzNj9",
        "colab_type": "text"
      },
      "source": [
        "## ライブラリのロード\n",
        "ライブラリを使えるようにするためにロードする"
      ]
    },
    {
      "cell_type": "code",
      "metadata": {
        "id": "Y0D_JpT1zNj-",
        "colab_type": "code",
        "colab": {}
      },
      "source": [
        "import pandas as pd\n",
        "import matplotlib.pyplot as plt\n",
        "import numpy as np\n",
        "import math"
      ],
      "execution_count": 1,
      "outputs": []
    },
    {
      "cell_type": "markdown",
      "metadata": {
        "id": "oKpZ454X0bQ3",
        "colab_type": "text"
      },
      "source": [
        "## Google Drive をマウントする"
      ]
    },
    {
      "cell_type": "code",
      "metadata": {
        "id": "5LUWwTxK0IcR",
        "colab_type": "code",
        "colab": {
          "base_uri": "https://localhost:8080/",
          "height": 122
        },
        "outputId": "4906c7c2-1f73-4528-f630-6bde060f49d2"
      },
      "source": [
        "from google.colab import drive\n",
        "drive.mount('/content/drive')"
      ],
      "execution_count": 2,
      "outputs": [
        {
          "output_type": "stream",
          "text": [
            "Go to this URL in a browser: https://accounts.google.com/o/oauth2/auth?client_id=947318989803-6bn6qk8qdgf4n4g3pfee6491hc0brc4i.apps.googleusercontent.com&redirect_uri=urn%3aietf%3awg%3aoauth%3a2.0%3aoob&scope=email%20https%3a%2f%2fwww.googleapis.com%2fauth%2fdocs.test%20https%3a%2f%2fwww.googleapis.com%2fauth%2fdrive%20https%3a%2f%2fwww.googleapis.com%2fauth%2fdrive.photos.readonly%20https%3a%2f%2fwww.googleapis.com%2fauth%2fpeopleapi.readonly&response_type=code\n",
            "\n",
            "Enter your authorization code:\n",
            "4/3wFf1_cKRVHEzh-K9QBU1mp9zhj0AopLVNqqhPmJXB-OFkohjlwkXHQ\n",
            "Mounted at /content/drive\n"
          ],
          "name": "stdout"
        }
      ]
    },
    {
      "cell_type": "markdown",
      "metadata": {
        "id": "xO3egZOfzNkG",
        "colab_type": "text"
      },
      "source": [
        "## 遺伝子発現変動解析の結果のデータを眺めてみる\n",
        "\n",
        "遺伝子はたくさんありますが、その中でも、「発現量がサンプル間で変動している遺伝子」に注意が向きます。なぜなら、そのような遺伝子は、サンプル間の表現型の違いを説明する可能性があるからです。\n",
        "\n",
        "そのような遺伝子は一般に発現変動遺伝子（Differentially expressed genes; DEG） と呼ばれます。\n",
        "\n",
        "ここでは正常組織と腫瘍組織のマクロファージの発現変動遺伝子解析の結果のデータを読み込んで、値の分布などを調べます。\n",
        "\n",
        "- 詳しく言うと、正常組織と腫瘍組織のマクロファージから取得した RNA-seq データから、正常組織と腫瘍組織の間で発現が変動しているかを全ての遺伝子について網羅的に仮説検定した結果のデータ (`data/CCCExplorer/CD11CB_output/gene_exp.diff`) です。\n",
        " \n",
        "これを例に、データの眺め方をみていきます。"
      ]
    },
    {
      "cell_type": "code",
      "metadata": {
        "id": "EiDV-GRtzNkG",
        "colab_type": "code",
        "colab": {}
      },
      "source": [
        "# データの読み込み\n",
        "deg_macrophage = pd.read_csv(\"/content/drive/My Drive/2020 L-1　情報科学・数理科学を用いた医学研究/07/data/CCCExplorer/CD11CB_output/gene_exp.diff\", sep=\"\\t\")"
      ],
      "execution_count": 3,
      "outputs": []
    },
    {
      "cell_type": "code",
      "metadata": {
        "id": "FcSDHjuAzNkJ",
        "colab_type": "code",
        "colab": {
          "base_uri": "https://localhost:8080/",
          "height": 34
        },
        "outputId": "a97bb499-3628-4660-8d6c-f1c9175e4009"
      },
      "source": [
        "# 行数、何数を調べる\n",
        "deg_macrophage.shape"
      ],
      "execution_count": 4,
      "outputs": [
        {
          "output_type": "execute_result",
          "data": {
            "text/plain": [
              "(30743, 14)"
            ]
          },
          "metadata": {
            "tags": []
          },
          "execution_count": 4
        }
      ]
    },
    {
      "cell_type": "code",
      "metadata": {
        "id": "qSHABKqdzNkL",
        "colab_type": "code",
        "colab": {
          "base_uri": "https://localhost:8080/",
          "height": 309
        },
        "outputId": "d9cc37d1-e6ee-4cd1-fe9b-109135196329"
      },
      "source": [
        "# データの頭の部分だけ確認\n",
        "deg_macrophage.head()"
      ],
      "execution_count": 5,
      "outputs": [
        {
          "output_type": "execute_result",
          "data": {
            "text/html": [
              "<div>\n",
              "<style scoped>\n",
              "    .dataframe tbody tr th:only-of-type {\n",
              "        vertical-align: middle;\n",
              "    }\n",
              "\n",
              "    .dataframe tbody tr th {\n",
              "        vertical-align: top;\n",
              "    }\n",
              "\n",
              "    .dataframe thead th {\n",
              "        text-align: right;\n",
              "    }\n",
              "</style>\n",
              "<table border=\"1\" class=\"dataframe\">\n",
              "  <thead>\n",
              "    <tr style=\"text-align: right;\">\n",
              "      <th></th>\n",
              "      <th>test_id</th>\n",
              "      <th>gene_id</th>\n",
              "      <th>gene</th>\n",
              "      <th>locus</th>\n",
              "      <th>sample_1</th>\n",
              "      <th>sample_2</th>\n",
              "      <th>status</th>\n",
              "      <th>value_1</th>\n",
              "      <th>value_2</th>\n",
              "      <th>log2(fold_change)</th>\n",
              "      <th>test_stat</th>\n",
              "      <th>p_value</th>\n",
              "      <th>q_value</th>\n",
              "      <th>significant</th>\n",
              "    </tr>\n",
              "  </thead>\n",
              "  <tbody>\n",
              "    <tr>\n",
              "      <th>0</th>\n",
              "      <td>0610005C13Rik</td>\n",
              "      <td>0610005C13Rik</td>\n",
              "      <td>-</td>\n",
              "      <td>chr7:45567794-45589710</td>\n",
              "      <td>q1</td>\n",
              "      <td>q2</td>\n",
              "      <td>NOTEST</td>\n",
              "      <td>0.072521</td>\n",
              "      <td>0.044282</td>\n",
              "      <td>-0.711684</td>\n",
              "      <td>0.000000</td>\n",
              "      <td>1.00000</td>\n",
              "      <td>1.000000</td>\n",
              "      <td>no</td>\n",
              "    </tr>\n",
              "    <tr>\n",
              "      <th>1</th>\n",
              "      <td>0610007C21Rik</td>\n",
              "      <td>0610007C21Rik</td>\n",
              "      <td>-</td>\n",
              "      <td>chr5:31036035-31054623</td>\n",
              "      <td>q1</td>\n",
              "      <td>q2</td>\n",
              "      <td>OK</td>\n",
              "      <td>50.268700</td>\n",
              "      <td>47.849600</td>\n",
              "      <td>-0.071153</td>\n",
              "      <td>-0.229939</td>\n",
              "      <td>0.71855</td>\n",
              "      <td>0.839597</td>\n",
              "      <td>no</td>\n",
              "    </tr>\n",
              "    <tr>\n",
              "      <th>2</th>\n",
              "      <td>0610007N19Rik</td>\n",
              "      <td>0610007N19Rik</td>\n",
              "      <td>-</td>\n",
              "      <td>chr15:32240567-32244662</td>\n",
              "      <td>q1</td>\n",
              "      <td>q2</td>\n",
              "      <td>NOTEST</td>\n",
              "      <td>0.238515</td>\n",
              "      <td>0.062952</td>\n",
              "      <td>-1.921740</td>\n",
              "      <td>0.000000</td>\n",
              "      <td>1.00000</td>\n",
              "      <td>1.000000</td>\n",
              "      <td>no</td>\n",
              "    </tr>\n",
              "    <tr>\n",
              "      <th>3</th>\n",
              "      <td>0610007P08Rik</td>\n",
              "      <td>0610007P08Rik</td>\n",
              "      <td>-</td>\n",
              "      <td>chr13:63815319-63900301</td>\n",
              "      <td>q1</td>\n",
              "      <td>q2</td>\n",
              "      <td>OK</td>\n",
              "      <td>3.574360</td>\n",
              "      <td>3.112430</td>\n",
              "      <td>-0.199643</td>\n",
              "      <td>-0.579890</td>\n",
              "      <td>0.36160</td>\n",
              "      <td>0.542589</td>\n",
              "      <td>no</td>\n",
              "    </tr>\n",
              "    <tr>\n",
              "      <th>4</th>\n",
              "      <td>0610007P14Rik</td>\n",
              "      <td>0610007P14Rik</td>\n",
              "      <td>-</td>\n",
              "      <td>chr12:85815454-85824545</td>\n",
              "      <td>q1</td>\n",
              "      <td>q2</td>\n",
              "      <td>OK</td>\n",
              "      <td>11.635600</td>\n",
              "      <td>10.572300</td>\n",
              "      <td>-0.138247</td>\n",
              "      <td>-0.474073</td>\n",
              "      <td>0.54570</td>\n",
              "      <td>0.711416</td>\n",
              "      <td>no</td>\n",
              "    </tr>\n",
              "  </tbody>\n",
              "</table>\n",
              "</div>"
            ],
            "text/plain": [
              "         test_id        gene_id gene  ...  p_value   q_value significant\n",
              "0  0610005C13Rik  0610005C13Rik    -  ...  1.00000  1.000000          no\n",
              "1  0610007C21Rik  0610007C21Rik    -  ...  0.71855  0.839597          no\n",
              "2  0610007N19Rik  0610007N19Rik    -  ...  1.00000  1.000000          no\n",
              "3  0610007P08Rik  0610007P08Rik    -  ...  0.36160  0.542589          no\n",
              "4  0610007P14Rik  0610007P14Rik    -  ...  0.54570  0.711416          no\n",
              "\n",
              "[5 rows x 14 columns]"
            ]
          },
          "metadata": {
            "tags": []
          },
          "execution_count": 5
        }
      ]
    },
    {
      "cell_type": "markdown",
      "metadata": {
        "id": "oi5HuaHSzNkN",
        "colab_type": "text"
      },
      "source": [
        "実はこのようなデータでした\n",
        "\n",
        "- 縦に遺伝子名のようなものが並んでいる。各行が遺伝子、各列が変数になっている\n",
        "- `p_value`や`q_value`は発現変動を判定する統計検定の結果だろう\n",
        "- `log2(fold_change)` は `value_2`/`value_1`をlog2変換したものだろう\n",
        "    - ちなみに、`value_1` は正常組織でのマクロファージ、 `value_2` は腫瘍組織内マクロファージ (intratumoral macropahges)でのFPKMの平均値\n",
        "      - これは __メタデータ__ をみないとわからない"
      ]
    },
    {
      "cell_type": "code",
      "metadata": {
        "id": "C2WZr53MzNkO",
        "colab_type": "code",
        "colab": {}
      },
      "source": [
        "# 使いやすいように、使いたい列だけにする\n",
        "deg_macrophage = deg_macrophage[['gene_id', 'value_1', 'value_2', 'log2(fold_change)', 'p_value', 'q_value']]"
      ],
      "execution_count": 6,
      "outputs": []
    },
    {
      "cell_type": "code",
      "metadata": {
        "id": "8mycG5jozNkQ",
        "colab_type": "code",
        "colab": {
          "base_uri": "https://localhost:8080/",
          "height": 204
        },
        "outputId": "a7238c6c-718b-4eea-bfc9-3a3461d9fd9e"
      },
      "source": [
        "# データの形が変わったことを確認\n",
        "deg_macrophage.head()"
      ],
      "execution_count": 7,
      "outputs": [
        {
          "output_type": "execute_result",
          "data": {
            "text/html": [
              "<div>\n",
              "<style scoped>\n",
              "    .dataframe tbody tr th:only-of-type {\n",
              "        vertical-align: middle;\n",
              "    }\n",
              "\n",
              "    .dataframe tbody tr th {\n",
              "        vertical-align: top;\n",
              "    }\n",
              "\n",
              "    .dataframe thead th {\n",
              "        text-align: right;\n",
              "    }\n",
              "</style>\n",
              "<table border=\"1\" class=\"dataframe\">\n",
              "  <thead>\n",
              "    <tr style=\"text-align: right;\">\n",
              "      <th></th>\n",
              "      <th>gene_id</th>\n",
              "      <th>value_1</th>\n",
              "      <th>value_2</th>\n",
              "      <th>log2(fold_change)</th>\n",
              "      <th>p_value</th>\n",
              "      <th>q_value</th>\n",
              "    </tr>\n",
              "  </thead>\n",
              "  <tbody>\n",
              "    <tr>\n",
              "      <th>0</th>\n",
              "      <td>0610005C13Rik</td>\n",
              "      <td>0.072521</td>\n",
              "      <td>0.044282</td>\n",
              "      <td>-0.711684</td>\n",
              "      <td>1.00000</td>\n",
              "      <td>1.000000</td>\n",
              "    </tr>\n",
              "    <tr>\n",
              "      <th>1</th>\n",
              "      <td>0610007C21Rik</td>\n",
              "      <td>50.268700</td>\n",
              "      <td>47.849600</td>\n",
              "      <td>-0.071153</td>\n",
              "      <td>0.71855</td>\n",
              "      <td>0.839597</td>\n",
              "    </tr>\n",
              "    <tr>\n",
              "      <th>2</th>\n",
              "      <td>0610007N19Rik</td>\n",
              "      <td>0.238515</td>\n",
              "      <td>0.062952</td>\n",
              "      <td>-1.921740</td>\n",
              "      <td>1.00000</td>\n",
              "      <td>1.000000</td>\n",
              "    </tr>\n",
              "    <tr>\n",
              "      <th>3</th>\n",
              "      <td>0610007P08Rik</td>\n",
              "      <td>3.574360</td>\n",
              "      <td>3.112430</td>\n",
              "      <td>-0.199643</td>\n",
              "      <td>0.36160</td>\n",
              "      <td>0.542589</td>\n",
              "    </tr>\n",
              "    <tr>\n",
              "      <th>4</th>\n",
              "      <td>0610007P14Rik</td>\n",
              "      <td>11.635600</td>\n",
              "      <td>10.572300</td>\n",
              "      <td>-0.138247</td>\n",
              "      <td>0.54570</td>\n",
              "      <td>0.711416</td>\n",
              "    </tr>\n",
              "  </tbody>\n",
              "</table>\n",
              "</div>"
            ],
            "text/plain": [
              "         gene_id    value_1    value_2  log2(fold_change)  p_value   q_value\n",
              "0  0610005C13Rik   0.072521   0.044282          -0.711684  1.00000  1.000000\n",
              "1  0610007C21Rik  50.268700  47.849600          -0.071153  0.71855  0.839597\n",
              "2  0610007N19Rik   0.238515   0.062952          -1.921740  1.00000  1.000000\n",
              "3  0610007P08Rik   3.574360   3.112430          -0.199643  0.36160  0.542589\n",
              "4  0610007P14Rik  11.635600  10.572300          -0.138247  0.54570  0.711416"
            ]
          },
          "metadata": {
            "tags": []
          },
          "execution_count": 7
        }
      ]
    },
    {
      "cell_type": "code",
      "metadata": {
        "id": "d8ISaBMVzNkS",
        "colab_type": "code",
        "colab": {
          "base_uri": "https://localhost:8080/",
          "height": 367
        },
        "outputId": "5a3704ec-32a1-4169-d98e-598181f7d824"
      },
      "source": [
        "# p-valueの分布を確認する\n",
        "plt.hist(deg_macrophage['p_value'])"
      ],
      "execution_count": 8,
      "outputs": [
        {
          "output_type": "execute_result",
          "data": {
            "text/plain": [
              "(array([ 6594.,  1334.,  1079.,   870.,   804.,   731.,   723.,   723.,\n",
              "          774., 17111.]),\n",
              " array([5.00000e-05, 1.00045e-01, 2.00040e-01, 3.00035e-01, 4.00030e-01,\n",
              "        5.00025e-01, 6.00020e-01, 7.00015e-01, 8.00010e-01, 9.00005e-01,\n",
              "        1.00000e+00]),\n",
              " <a list of 10 Patch objects>)"
            ]
          },
          "metadata": {
            "tags": []
          },
          "execution_count": 8
        },
        {
          "output_type": "display_data",
          "data": {
            "image/png": "[encoded data removed]",
            "text/plain": [
              "<Figure size 432x288 with 1 Axes>"
            ]
          },
          "metadata": {
            "tags": [],
            "needs_background": "light"
          }
        }
      ]
    },
    {
      "cell_type": "code",
      "metadata": {
        "id": "i9hrdNbrzNkU",
        "colab_type": "code",
        "colab": {
          "base_uri": "https://localhost:8080/",
          "height": 367
        },
        "outputId": "fc6da1e4-ec00-4b22-975e-988367a21b46"
      },
      "source": [
        "# q-valueの分布を確認する\n",
        "plt.hist(deg_macrophage['q_value'])"
      ],
      "execution_count": 9,
      "outputs": [
        {
          "output_type": "execute_result",
          "data": {
            "text/plain": [
              "(array([ 5328.,  1090.,   927.,   926.,   928.,   850.,   834.,  1008.,\n",
              "         1083., 17769.]),\n",
              " array([3.10039000e-04, 1.00279035e-01, 2.00248031e-01, 3.00217027e-01,\n",
              "        4.00186023e-01, 5.00155019e-01, 6.00124016e-01, 7.00093012e-01,\n",
              "        8.00062008e-01, 9.00031004e-01, 1.00000000e+00]),\n",
              " <a list of 10 Patch objects>)"
            ]
          },
          "metadata": {
            "tags": []
          },
          "execution_count": 9
        },
        {
          "output_type": "display_data",
          "data": {
            "image/png": "[encoded data removed]",
            "text/plain": [
              "<Figure size 432x288 with 1 Axes>"
            ]
          },
          "metadata": {
            "tags": [],
            "needs_background": "light"
          }
        }
      ]
    },
    {
      "cell_type": "code",
      "metadata": {
        "id": "23Y0PpxczNkW",
        "colab_type": "code",
        "colab": {
          "base_uri": "https://localhost:8080/",
          "height": 353
        },
        "outputId": "ce5e8322-7936-48b2-dab6-463aff6d4c8d"
      },
      "source": [
        "# `log2(fold_change)`の分布を確認する\n",
        "plt.hist(\n",
        "    # inf や -inf があると、うまく描画できなかったので、 `np.isfinite()` で有限な値の行のみにしている\n",
        "    deg_macrophage[np.isfinite(deg_macrophage['log2(fold_change)'])]['log2(fold_change)']\n",
        ")"
      ],
      "execution_count": 20,
      "outputs": [
        {
          "output_type": "execute_result",
          "data": {
            "text/plain": [
              "(array([2.0000e+00, 4.0000e+00, 4.1000e+01, 6.8800e+02, 2.3905e+04,\n",
              "        3.6710e+03, 3.5700e+02, 3.4000e+01, 1.0000e+00, 2.0000e+00]),\n",
              " array([-14.2799 , -11.30814,  -8.33638,  -5.36462,  -2.39286,   0.5789 ,\n",
              "          3.55066,   6.52242,   9.49418,  12.46594,  15.4377 ]),\n",
              " <a list of 10 Patch objects>)"
            ]
          },
          "metadata": {
            "tags": []
          },
          "execution_count": 20
        },
        {
          "output_type": "display_data",
          "data": {
            "image/png": "[encoded data removed]",
            "text/plain": [
              "<Figure size 432x288 with 1 Axes>"
            ]
          },
          "metadata": {
            "tags": [],
            "needs_background": "light"
          }
        }
      ]
    },
    {
      "cell_type": "code",
      "metadata": {
        "id": "ueuJUs_MzNkY",
        "colab_type": "code",
        "colab": {
          "base_uri": "https://localhost:8080/",
          "height": 282
        },
        "outputId": "354ef82d-686c-4d99-cc2d-81ab70f4fdc2"
      },
      "source": [
        "# log2FC と q_valueの関係を眺めてみる (volcano plot)\n",
        "plt.scatter(deg_macrophage['log2(fold_change)'], deg_macrophage['q_value'], s = 0.5, alpha = 0.5)"
      ],
      "execution_count": 21,
      "outputs": [
        {
          "output_type": "execute_result",
          "data": {
            "text/plain": [
              "<matplotlib.collections.PathCollection at 0x7fc59770e0f0>"
            ]
          },
          "metadata": {
            "tags": []
          },
          "execution_count": 21
        },
        {
          "output_type": "display_data",
          "data": {
            "image/png": "[encoded data removed]",
            "text/plain": [
              "<Figure size 432x288 with 1 Axes>"
            ]
          },
          "metadata": {
            "tags": [],
            "needs_background": "light"
          }
        }
      ]
    },
    {
      "cell_type": "markdown",
      "metadata": {
        "id": "4IPV1FP1zNka",
        "colab_type": "text"
      },
      "source": [
        "## 発現変動遺伝子の数を数える\n",
        "\n",
        "遺伝子はたくさんありますが、その中でも、「発現量がサンプル間で変動している遺伝子」に注意が向きます。なぜなら、そのような遺伝子は、サンプル間の表現型の違いを説明する可能性があるからです。\n",
        "\n",
        "そのような遺伝子は一般に発現変動遺伝子（Differentially expressed genes; DEG） と呼ばれます。ここでは、発現変動遺伝子を抽出することを試みます。\n",
        "\n"
      ]
    },
    {
      "cell_type": "code",
      "metadata": {
        "id": "6xqHQ4Vq9yu_",
        "colab_type": "code",
        "colab": {}
      },
      "source": [
        "# Fold change (fc) と　q-value (qv) の閾値を設定する\n",
        "\n",
        "threshold_fc = math.log2(1.5)\n",
        "threshold_qv = 0.1 "
      ],
      "execution_count": 25,
      "outputs": []
    },
    {
      "cell_type": "code",
      "metadata": {
        "id": "fQFk-GzT5RS3",
        "colab_type": "code",
        "colab": {
          "base_uri": "https://localhost:8080/",
          "height": 34
        },
        "outputId": "cefa1ad6-d84f-4204-ed45-fd1fe430e334"
      },
      "source": [
        "# 腫瘍組織内マクロファージで多い (FC > 1.5, q_value < 0.1) 遺伝子の数は？\n",
        "deg_macrophage.query('`log2(fold_change)` > @threshold_fc & q_value < @threshold_qv').shape"
      ],
      "execution_count": 26,
      "outputs": [
        {
          "output_type": "execute_result",
          "data": {
            "text/plain": [
              "(2324, 6)"
            ]
          },
          "metadata": {
            "tags": []
          },
          "execution_count": 26
        }
      ]
    },
    {
      "cell_type": "code",
      "metadata": {
        "id": "biE01aHlzNke",
        "colab_type": "code",
        "colab": {
          "base_uri": "https://localhost:8080/",
          "height": 34
        },
        "outputId": "6edec71c-2a2f-4257-cfb7-e56582abfa67"
      },
      "source": [
        "# 正常組織内マクロファージで多い (FC > 1/1.5, q_value < 0.1) の遺伝子の数は？\n",
        "deg_macrophage.query('`log2(fold_change)` > -1 * @threshold_fc & q_value < @threshold_qv').shape"
      ],
      "execution_count": 27,
      "outputs": [
        {
          "output_type": "execute_result",
          "data": {
            "text/plain": [
              "(3334, 6)"
            ]
          },
          "metadata": {
            "tags": []
          },
          "execution_count": 27
        }
      ]
    },
    {
      "cell_type": "markdown",
      "metadata": {
        "id": "f9EL879L-uCk",
        "colab_type": "text"
      },
      "source": [
        "## ポジコンが取れているかを確認する\n",
        "一般に実験がうまくいったかを確認するためには、「その実験がうまくいっているとすると絶対に観察される結果」を事前に設定します。これをポジコン（Positive control）と呼びます。\n",
        "\n",
        "RNA-seq解析では、「このサンプルだとこの遺伝子は絶対に出ているはず」「この２サンプル群間でこの遺伝子は絶対に発現量に差が出ているはず」という遺伝子がポジコンに当たります。\n",
        "\n",
        "今回は、「腫瘍内マクロファージでは、正常組織でのマクロファージに比べ、MMP-9やVEGFA遺伝子の発現量が高くなっている」という先行研究を参照し（下記）、これらの遺伝子が「腫瘍内マクロファージで高いと判定される発現変動遺伝子」に含まれるかを確認します。これにより、このRNA-seqデータが、生物学的なシグナルを反映してるかを判断します。\n",
        "\n",
        "\n",
        "> \"intratumoral macrophages express increased cathepsin K, COX-2, MMP-9, PDGF-B, uPA, VEGFA, and HGF (Wang et al., 2011)\"\n",
        "    - Wang et al., 2011 http://www.sciencedirect.com/science/article/pii/S0169500211002546"
      ]
    },
    {
      "cell_type": "code",
      "metadata": {
        "id": "_UWBTngKzNkd",
        "colab_type": "code",
        "colab": {
          "base_uri": "https://localhost:8080/",
          "height": 80
        },
        "outputId": "4449192c-2417-47a2-d372-ab3cd642aaff"
      },
      "source": [
        "# ポジコンである Vegfa がとれるかの確認 (生物学的なQC)\n",
        "deg_macrophage.query('`log2(fold_change)` > @threshold_fc & q_value < @threshold_qv').query('gene_id==\"Vegfa\"')"
      ],
      "execution_count": 28,
      "outputs": [
        {
          "output_type": "execute_result",
          "data": {
            "text/html": [
              "<div>\n",
              "<style scoped>\n",
              "    .dataframe tbody tr th:only-of-type {\n",
              "        vertical-align: middle;\n",
              "    }\n",
              "\n",
              "    .dataframe tbody tr th {\n",
              "        vertical-align: top;\n",
              "    }\n",
              "\n",
              "    .dataframe thead th {\n",
              "        text-align: right;\n",
              "    }\n",
              "</style>\n",
              "<table border=\"1\" class=\"dataframe\">\n",
              "  <thead>\n",
              "    <tr style=\"text-align: right;\">\n",
              "      <th></th>\n",
              "      <th>gene_id</th>\n",
              "      <th>value_1</th>\n",
              "      <th>value_2</th>\n",
              "      <th>log2(fold_change)</th>\n",
              "      <th>p_value</th>\n",
              "      <th>q_value</th>\n",
              "    </tr>\n",
              "  </thead>\n",
              "  <tbody>\n",
              "    <tr>\n",
              "      <th>29378</th>\n",
              "      <td>Vegfa</td>\n",
              "      <td>7.99474</td>\n",
              "      <td>167.936</td>\n",
              "      <td>4.39272</td>\n",
              "      <td>0.00005</td>\n",
              "      <td>0.00031</td>\n",
              "    </tr>\n",
              "  </tbody>\n",
              "</table>\n",
              "</div>"
            ],
            "text/plain": [
              "      gene_id  value_1  value_2  log2(fold_change)  p_value  q_value\n",
              "29378   Vegfa  7.99474  167.936            4.39272  0.00005  0.00031"
            ]
          },
          "metadata": {
            "tags": []
          },
          "execution_count": 28
        }
      ]
    },
    {
      "cell_type": "code",
      "metadata": {
        "id": "DQzQ6tfs-n-z",
        "colab_type": "code",
        "colab": {
          "base_uri": "https://localhost:8080/",
          "height": 80
        },
        "outputId": "309d173d-5604-4491-9537-e3695cd075fe"
      },
      "source": [
        "# ポジコンである Mmp9 がとれるかの確認 (生物学的なQC)\n",
        "deg_macrophage.query('`log2(fold_change)` > @threshold_fc & q_value < @threshold_qv').query('gene_id==\"Mmp9\"')"
      ],
      "execution_count": 29,
      "outputs": [
        {
          "output_type": "execute_result",
          "data": {
            "text/html": [
              "<div>\n",
              "<style scoped>\n",
              "    .dataframe tbody tr th:only-of-type {\n",
              "        vertical-align: middle;\n",
              "    }\n",
              "\n",
              "    .dataframe tbody tr th {\n",
              "        vertical-align: top;\n",
              "    }\n",
              "\n",
              "    .dataframe thead th {\n",
              "        text-align: right;\n",
              "    }\n",
              "</style>\n",
              "<table border=\"1\" class=\"dataframe\">\n",
              "  <thead>\n",
              "    <tr style=\"text-align: right;\">\n",
              "      <th></th>\n",
              "      <th>gene_id</th>\n",
              "      <th>value_1</th>\n",
              "      <th>value_2</th>\n",
              "      <th>log2(fold_change)</th>\n",
              "      <th>p_value</th>\n",
              "      <th>q_value</th>\n",
              "    </tr>\n",
              "  </thead>\n",
              "  <tbody>\n",
              "    <tr>\n",
              "      <th>20560</th>\n",
              "      <td>Mmp9</td>\n",
              "      <td>0.088896</td>\n",
              "      <td>6.75021</td>\n",
              "      <td>6.24667</td>\n",
              "      <td>0.00005</td>\n",
              "      <td>0.00031</td>\n",
              "    </tr>\n",
              "  </tbody>\n",
              "</table>\n",
              "</div>"
            ],
            "text/plain": [
              "      gene_id   value_1  value_2  log2(fold_change)  p_value  q_value\n",
              "20560    Mmp9  0.088896  6.75021            6.24667  0.00005  0.00031"
            ]
          },
          "metadata": {
            "tags": []
          },
          "execution_count": 29
        }
      ]
    },
    {
      "cell_type": "markdown",
      "metadata": {
        "id": "0sLF8PDwzNkg",
        "colab_type": "text"
      },
      "source": [
        "------\n",
        "\n",
        "------\n",
        "\n",
        "------\n",
        "\n",
        "\n",
        "# 本番"
      ]
    },
    {
      "cell_type": "markdown",
      "metadata": {
        "id": "W_NHEy9wzNkh",
        "colab_type": "text"
      },
      "source": [
        "## 腫瘍組織内間質細胞で発現上昇する遺伝子のリストを得る"
      ]
    },
    {
      "cell_type": "code",
      "metadata": {
        "id": "VAWZhr8zAluo",
        "colab_type": "code",
        "colab": {}
      },
      "source": [
        "# 発現量（Expression, ex） の閾値\n",
        "threshold_ex = 2"
      ],
      "execution_count": 30,
      "outputs": []
    },
    {
      "cell_type": "code",
      "metadata": {
        "id": "GGoTJ49OzNkj",
        "colab_type": "code",
        "colab": {
          "base_uri": "https://localhost:8080/",
          "height": 34
        },
        "outputId": "dc6ed813-7962-450a-8933-93daf1b2a0cf"
      },
      "source": [
        "# とある条件で腫瘍組織内間質細胞で発現上昇する遺伝子をフィルタリング\n",
        "deg_macrophage_tumor = deg_macrophage.query('value_2 > @threshold_ex & `log2(fold_change)` > @threshold_fc & q_value < @threshold_qv')\n",
        "\n",
        "# 何行 (何遺伝子)\n",
        "deg_macrophage_tumor.shape"
      ],
      "execution_count": 31,
      "outputs": [
        {
          "output_type": "execute_result",
          "data": {
            "text/plain": [
              "(1921, 6)"
            ]
          },
          "metadata": {
            "tags": []
          },
          "execution_count": 31
        }
      ]
    },
    {
      "cell_type": "markdown",
      "metadata": {
        "id": "-DBVmm4EzNkl",
        "colab_type": "text"
      },
      "source": [
        "## 腫瘍細胞で発現する遺伝子のリストを得る\n"
      ]
    },
    {
      "cell_type": "code",
      "metadata": {
        "id": "Vz-XPRdhA_BI",
        "colab_type": "code",
        "colab": {}
      },
      "source": [
        "# 遺伝子発現量 (FPKM) をまとめた表を読み込む (Cufflinksの出力だとおもう)\n",
        "fpkm_epi = pd.read_csv('/content/drive/My Drive/2020 L-1　情報科学・数理科学を用いた医学研究/07/data/CCCExplorer/EP_output/genes.read_group_tracking', sep=\"\\t\")"
      ],
      "execution_count": 32,
      "outputs": []
    },
    {
      "cell_type": "code",
      "metadata": {
        "id": "64yqTdr0BAC1",
        "colab_type": "code",
        "colab": {
          "base_uri": "https://localhost:8080/",
          "height": 34
        },
        "outputId": "8f99f77e-cef6-443b-dbf3-7c6e78351688"
      },
      "source": [
        "# 行数、何数を調べる\n",
        "fpkm_epi.shape"
      ],
      "execution_count": 33,
      "outputs": [
        {
          "output_type": "execute_result",
          "data": {
            "text/plain": [
              "(184458, 9)"
            ]
          },
          "metadata": {
            "tags": []
          },
          "execution_count": 33
        }
      ]
    },
    {
      "cell_type": "code",
      "metadata": {
        "id": "vfCLVEvnA_ph",
        "colab_type": "code",
        "colab": {
          "base_uri": "https://localhost:8080/",
          "height": 224
        },
        "outputId": "f81b880f-e256-40de-8330-da52814e1731"
      },
      "source": [
        "# データの頭の部分だけ確認\n",
        "fpkm_epi.head()"
      ],
      "execution_count": 34,
      "outputs": [
        {
          "output_type": "execute_result",
          "data": {
            "text/html": [
              "<div>\n",
              "<style scoped>\n",
              "    .dataframe tbody tr th:only-of-type {\n",
              "        vertical-align: middle;\n",
              "    }\n",
              "\n",
              "    .dataframe tbody tr th {\n",
              "        vertical-align: top;\n",
              "    }\n",
              "\n",
              "    .dataframe thead th {\n",
              "        text-align: right;\n",
              "    }\n",
              "</style>\n",
              "<table border=\"1\" class=\"dataframe\">\n",
              "  <thead>\n",
              "    <tr style=\"text-align: right;\">\n",
              "      <th></th>\n",
              "      <th>tracking_id</th>\n",
              "      <th>condition</th>\n",
              "      <th>replicate</th>\n",
              "      <th>raw_frags</th>\n",
              "      <th>internal_scaled_frags</th>\n",
              "      <th>external_scaled_frags</th>\n",
              "      <th>FPKM</th>\n",
              "      <th>effective_length</th>\n",
              "      <th>status</th>\n",
              "    </tr>\n",
              "  </thead>\n",
              "  <tbody>\n",
              "    <tr>\n",
              "      <th>0</th>\n",
              "      <td>0610005C13Rik</td>\n",
              "      <td>q1</td>\n",
              "      <td>1</td>\n",
              "      <td>11.0</td>\n",
              "      <td>12.99970</td>\n",
              "      <td>12.99970</td>\n",
              "      <td>0.499583</td>\n",
              "      <td>-</td>\n",
              "      <td>OK</td>\n",
              "    </tr>\n",
              "    <tr>\n",
              "      <th>1</th>\n",
              "      <td>0610005C13Rik</td>\n",
              "      <td>q1</td>\n",
              "      <td>0</td>\n",
              "      <td>3.0</td>\n",
              "      <td>4.10373</td>\n",
              "      <td>4.10373</td>\n",
              "      <td>0.122142</td>\n",
              "      <td>-</td>\n",
              "      <td>OK</td>\n",
              "    </tr>\n",
              "    <tr>\n",
              "      <th>2</th>\n",
              "      <td>0610005C13Rik</td>\n",
              "      <td>q1</td>\n",
              "      <td>2</td>\n",
              "      <td>0.0</td>\n",
              "      <td>0.00000</td>\n",
              "      <td>0.00000</td>\n",
              "      <td>0.000000</td>\n",
              "      <td>-</td>\n",
              "      <td>OK</td>\n",
              "    </tr>\n",
              "    <tr>\n",
              "      <th>3</th>\n",
              "      <td>0610005C13Rik</td>\n",
              "      <td>q2</td>\n",
              "      <td>1</td>\n",
              "      <td>14.0</td>\n",
              "      <td>12.69620</td>\n",
              "      <td>12.69620</td>\n",
              "      <td>0.377883</td>\n",
              "      <td>-</td>\n",
              "      <td>OK</td>\n",
              "    </tr>\n",
              "    <tr>\n",
              "      <th>4</th>\n",
              "      <td>0610005C13Rik</td>\n",
              "      <td>q2</td>\n",
              "      <td>0</td>\n",
              "      <td>12.0</td>\n",
              "      <td>8.66261</td>\n",
              "      <td>8.66261</td>\n",
              "      <td>0.257830</td>\n",
              "      <td>-</td>\n",
              "      <td>OK</td>\n",
              "    </tr>\n",
              "  </tbody>\n",
              "</table>\n",
              "</div>"
            ],
            "text/plain": [
              "     tracking_id condition  replicate  ...      FPKM  effective_length  status\n",
              "0  0610005C13Rik        q1          1  ...  0.499583                 -      OK\n",
              "1  0610005C13Rik        q1          0  ...  0.122142                 -      OK\n",
              "2  0610005C13Rik        q1          2  ...  0.000000                 -      OK\n",
              "3  0610005C13Rik        q2          1  ...  0.377883                 -      OK\n",
              "4  0610005C13Rik        q2          0  ...  0.257830                 -      OK\n",
              "\n",
              "[5 rows x 9 columns]"
            ]
          },
          "metadata": {
            "tags": []
          },
          "execution_count": 34
        }
      ]
    },
    {
      "cell_type": "code",
      "metadata": {
        "id": "bfqWogtVA_4W",
        "colab_type": "code",
        "colab": {
          "base_uri": "https://localhost:8080/",
          "height": 204
        },
        "outputId": "05cd36c9-a9fd-4391-a82a-cdaefdc3db87"
      },
      "source": [
        "# 使いやすいように、使いたい列だけにする\n",
        "fpkm_epi = fpkm_epi[['tracking_id', 'FPKM']]\n",
        "\n",
        "fpkm_epi.head()"
      ],
      "execution_count": 35,
      "outputs": [
        {
          "output_type": "execute_result",
          "data": {
            "text/html": [
              "<div>\n",
              "<style scoped>\n",
              "    .dataframe tbody tr th:only-of-type {\n",
              "        vertical-align: middle;\n",
              "    }\n",
              "\n",
              "    .dataframe tbody tr th {\n",
              "        vertical-align: top;\n",
              "    }\n",
              "\n",
              "    .dataframe thead th {\n",
              "        text-align: right;\n",
              "    }\n",
              "</style>\n",
              "<table border=\"1\" class=\"dataframe\">\n",
              "  <thead>\n",
              "    <tr style=\"text-align: right;\">\n",
              "      <th></th>\n",
              "      <th>tracking_id</th>\n",
              "      <th>FPKM</th>\n",
              "    </tr>\n",
              "  </thead>\n",
              "  <tbody>\n",
              "    <tr>\n",
              "      <th>0</th>\n",
              "      <td>0610005C13Rik</td>\n",
              "      <td>0.499583</td>\n",
              "    </tr>\n",
              "    <tr>\n",
              "      <th>1</th>\n",
              "      <td>0610005C13Rik</td>\n",
              "      <td>0.122142</td>\n",
              "    </tr>\n",
              "    <tr>\n",
              "      <th>2</th>\n",
              "      <td>0610005C13Rik</td>\n",
              "      <td>0.000000</td>\n",
              "    </tr>\n",
              "    <tr>\n",
              "      <th>3</th>\n",
              "      <td>0610005C13Rik</td>\n",
              "      <td>0.377883</td>\n",
              "    </tr>\n",
              "    <tr>\n",
              "      <th>4</th>\n",
              "      <td>0610005C13Rik</td>\n",
              "      <td>0.257830</td>\n",
              "    </tr>\n",
              "  </tbody>\n",
              "</table>\n",
              "</div>"
            ],
            "text/plain": [
              "     tracking_id      FPKM\n",
              "0  0610005C13Rik  0.499583\n",
              "1  0610005C13Rik  0.122142\n",
              "2  0610005C13Rik  0.000000\n",
              "3  0610005C13Rik  0.377883\n",
              "4  0610005C13Rik  0.257830"
            ]
          },
          "metadata": {
            "tags": []
          },
          "execution_count": 35
        }
      ]
    },
    {
      "cell_type": "code",
      "metadata": {
        "id": "OwUjm2GbA_fr",
        "colab_type": "code",
        "colab": {
          "base_uri": "https://localhost:8080/",
          "height": 34
        },
        "outputId": "0372a993-13c8-495d-a711-42834d357eb5"
      },
      "source": [
        "# とある条件で腫瘍細胞で発現する遺伝子をフィルタリング\n",
        "fpkm_epi_tumor = fpkm_epi.query('FPKM > @threshold_ex')\n",
        "\n",
        "fpkm_epi_tumor.shape"
      ],
      "execution_count": 36,
      "outputs": [
        {
          "output_type": "execute_result",
          "data": {
            "text/plain": [
              "(72437, 2)"
            ]
          },
          "metadata": {
            "tags": []
          },
          "execution_count": 36
        }
      ]
    },
    {
      "cell_type": "markdown",
      "metadata": {
        "id": "2qkpPGRbzNkp",
        "colab_type": "text"
      },
      "source": [
        "## ヒト-マウスのオーソログ関係の取得\n",
        "\n",
        "`data/CCCExplorer/HOM_MouseHumanSequence.rpt` は Mouse Genome Informatics database から取得されたヒト-マウスオーソログリスト"
      ]
    },
    {
      "cell_type": "code",
      "metadata": {
        "scrolled": true,
        "id": "KmQNInlHzNkp",
        "colab_type": "code",
        "colab": {
          "base_uri": "https://localhost:8080/",
          "height": 34
        },
        "outputId": "8c6f476f-4cdd-411d-d6b6-dd03a7e7d734"
      },
      "source": [
        "# データの読み込み\n",
        "dfhom = pd.read_csv('/content/drive/My Drive/2020 L-1　情報科学・数理科学を用いた医学研究/07/data/CCCExplorer/HOM_MouseHumanSequence.rpt', sep=\"\\t\")\n",
        "\n",
        "# 何行何列\n",
        "dfhom.shape"
      ],
      "execution_count": 37,
      "outputs": [
        {
          "output_type": "execute_result",
          "data": {
            "text/plain": [
              "(39522, 13)"
            ]
          },
          "metadata": {
            "tags": []
          },
          "execution_count": 37
        }
      ]
    },
    {
      "cell_type": "code",
      "metadata": {
        "id": "RnVUh5Phvl8W",
        "colab_type": "code",
        "colab": {
          "base_uri": "https://localhost:8080/",
          "height": 394
        },
        "outputId": "d6cbcc1e-840f-498a-82cc-154648bda524"
      },
      "source": [
        "# データの頭をみる\n",
        "dfhom.head()"
      ],
      "execution_count": 38,
      "outputs": [
        {
          "output_type": "execute_result",
          "data": {
            "text/html": [
              "<div>\n",
              "<style scoped>\n",
              "    .dataframe tbody tr th:only-of-type {\n",
              "        vertical-align: middle;\n",
              "    }\n",
              "\n",
              "    .dataframe tbody tr th {\n",
              "        vertical-align: top;\n",
              "    }\n",
              "\n",
              "    .dataframe thead th {\n",
              "        text-align: right;\n",
              "    }\n",
              "</style>\n",
              "<table border=\"1\" class=\"dataframe\">\n",
              "  <thead>\n",
              "    <tr style=\"text-align: right;\">\n",
              "      <th></th>\n",
              "      <th>HomoloGene ID</th>\n",
              "      <th>Common Organism Name</th>\n",
              "      <th>NCBI Taxon ID</th>\n",
              "      <th>Symbol</th>\n",
              "      <th>EntrezGene ID</th>\n",
              "      <th>Mouse MGI ID</th>\n",
              "      <th>HGNC ID</th>\n",
              "      <th>OMIM Gene ID</th>\n",
              "      <th>Genetic Location</th>\n",
              "      <th>Genomic Coordinates (mouse: GRCm38, human: GRCh37.p10)</th>\n",
              "      <th>Nucleotide RefSeq IDs</th>\n",
              "      <th>Protein RefSeq IDs</th>\n",
              "      <th>SWISS_PROT IDs</th>\n",
              "    </tr>\n",
              "  </thead>\n",
              "  <tbody>\n",
              "    <tr>\n",
              "      <th>0</th>\n",
              "      <td>3</td>\n",
              "      <td>mouse, laboratory</td>\n",
              "      <td>10090</td>\n",
              "      <td>Acadm</td>\n",
              "      <td>11364</td>\n",
              "      <td>MGI:87867</td>\n",
              "      <td>NaN</td>\n",
              "      <td>NaN</td>\n",
              "      <td>Chr3 78.77 cM</td>\n",
              "      <td>Chr3:153922357-153944632(-)</td>\n",
              "      <td>NM_007382</td>\n",
              "      <td>NP_031408</td>\n",
              "      <td>P45952</td>\n",
              "    </tr>\n",
              "    <tr>\n",
              "      <th>1</th>\n",
              "      <td>3</td>\n",
              "      <td>human</td>\n",
              "      <td>9606</td>\n",
              "      <td>ACADM</td>\n",
              "      <td>34</td>\n",
              "      <td>NaN</td>\n",
              "      <td>HGNC:89</td>\n",
              "      <td>607008.0</td>\n",
              "      <td>Chr1 p31</td>\n",
              "      <td>Chr1:76190043-76229355(+)</td>\n",
              "      <td>NM_000016,NM_001127328</td>\n",
              "      <td>NP_000007,NP_001120800,XP_005270868,XP_0052708...</td>\n",
              "      <td>P11310</td>\n",
              "    </tr>\n",
              "    <tr>\n",
              "      <th>2</th>\n",
              "      <td>5</td>\n",
              "      <td>mouse, laboratory</td>\n",
              "      <td>10090</td>\n",
              "      <td>Acadvl</td>\n",
              "      <td>11370</td>\n",
              "      <td>MGI:895149</td>\n",
              "      <td>NaN</td>\n",
              "      <td>NaN</td>\n",
              "      <td>Chr11 42.96 cM</td>\n",
              "      <td>Chr11:70010183-70015411(-)</td>\n",
              "      <td>NM_017366</td>\n",
              "      <td>NP_059062</td>\n",
              "      <td>P50544</td>\n",
              "    </tr>\n",
              "    <tr>\n",
              "      <th>3</th>\n",
              "      <td>5</td>\n",
              "      <td>human</td>\n",
              "      <td>9606</td>\n",
              "      <td>ACADVL</td>\n",
              "      <td>37</td>\n",
              "      <td>NaN</td>\n",
              "      <td>HGNC:92</td>\n",
              "      <td>609575.0</td>\n",
              "      <td>Chr17 p13.1</td>\n",
              "      <td>Chr17:7120444-7128586(+)</td>\n",
              "      <td>NM_000018,NM_001033859,NM_001270447,NM_001270448</td>\n",
              "      <td>NP_000009,NP_001029031,NP_001257376,NP_001257377</td>\n",
              "      <td>P49748</td>\n",
              "    </tr>\n",
              "    <tr>\n",
              "      <th>4</th>\n",
              "      <td>6</td>\n",
              "      <td>mouse, laboratory</td>\n",
              "      <td>10090</td>\n",
              "      <td>Acat1</td>\n",
              "      <td>110446</td>\n",
              "      <td>MGI:87870</td>\n",
              "      <td>NaN</td>\n",
              "      <td>NaN</td>\n",
              "      <td>Chr9 29.12 cM</td>\n",
              "      <td>Chr9:53580522-53610382(-)</td>\n",
              "      <td>NM_144784</td>\n",
              "      <td>NP_659033</td>\n",
              "      <td>Q8QZT1</td>\n",
              "    </tr>\n",
              "  </tbody>\n",
              "</table>\n",
              "</div>"
            ],
            "text/plain": [
              "   HomoloGene ID  ... SWISS_PROT IDs\n",
              "0              3  ...         P45952\n",
              "1              3  ...         P11310\n",
              "2              5  ...         P50544\n",
              "3              5  ...         P49748\n",
              "4              6  ...         Q8QZT1\n",
              "\n",
              "[5 rows x 13 columns]"
            ]
          },
          "metadata": {
            "tags": []
          },
          "execution_count": 38
        }
      ]
    },
    {
      "cell_type": "code",
      "metadata": {
        "id": "xcU54oB1zNkr",
        "colab_type": "code",
        "colab": {
          "base_uri": "https://localhost:8080/",
          "height": 204
        },
        "outputId": "331c2133-ca37-4a68-a0ba-6d2b254cf07a"
      },
      "source": [
        "# 使いやすいように、使いたい列だけにする\n",
        "dfhom = dfhom[['HomoloGene ID', 'Symbol', 'Common Organism Name']]\n",
        "\n",
        "# 確認\n",
        "dfhom.head()"
      ],
      "execution_count": 39,
      "outputs": [
        {
          "output_type": "execute_result",
          "data": {
            "text/html": [
              "<div>\n",
              "<style scoped>\n",
              "    .dataframe tbody tr th:only-of-type {\n",
              "        vertical-align: middle;\n",
              "    }\n",
              "\n",
              "    .dataframe tbody tr th {\n",
              "        vertical-align: top;\n",
              "    }\n",
              "\n",
              "    .dataframe thead th {\n",
              "        text-align: right;\n",
              "    }\n",
              "</style>\n",
              "<table border=\"1\" class=\"dataframe\">\n",
              "  <thead>\n",
              "    <tr style=\"text-align: right;\">\n",
              "      <th></th>\n",
              "      <th>HomoloGene ID</th>\n",
              "      <th>Symbol</th>\n",
              "      <th>Common Organism Name</th>\n",
              "    </tr>\n",
              "  </thead>\n",
              "  <tbody>\n",
              "    <tr>\n",
              "      <th>0</th>\n",
              "      <td>3</td>\n",
              "      <td>Acadm</td>\n",
              "      <td>mouse, laboratory</td>\n",
              "    </tr>\n",
              "    <tr>\n",
              "      <th>1</th>\n",
              "      <td>3</td>\n",
              "      <td>ACADM</td>\n",
              "      <td>human</td>\n",
              "    </tr>\n",
              "    <tr>\n",
              "      <th>2</th>\n",
              "      <td>5</td>\n",
              "      <td>Acadvl</td>\n",
              "      <td>mouse, laboratory</td>\n",
              "    </tr>\n",
              "    <tr>\n",
              "      <th>3</th>\n",
              "      <td>5</td>\n",
              "      <td>ACADVL</td>\n",
              "      <td>human</td>\n",
              "    </tr>\n",
              "    <tr>\n",
              "      <th>4</th>\n",
              "      <td>6</td>\n",
              "      <td>Acat1</td>\n",
              "      <td>mouse, laboratory</td>\n",
              "    </tr>\n",
              "  </tbody>\n",
              "</table>\n",
              "</div>"
            ],
            "text/plain": [
              "   HomoloGene ID  Symbol Common Organism Name\n",
              "0              3   Acadm    mouse, laboratory\n",
              "1              3   ACADM                human\n",
              "2              5  Acadvl    mouse, laboratory\n",
              "3              5  ACADVL                human\n",
              "4              6   Acat1    mouse, laboratory"
            ]
          },
          "metadata": {
            "tags": []
          },
          "execution_count": 39
        }
      ]
    },
    {
      "cell_type": "markdown",
      "metadata": {
        "id": "SLS-aKkZzNks",
        "colab_type": "text"
      },
      "source": [
        "実は上の表は 1対1オーソログだけでなく、1対多オーソログも含まれていたので、ちょっと面倒です。\n",
        "このような場合、1対1オーソログのみに絞ることもありますし、全部残す場合もあります。ケースバイケース。\n",
        "\n",
        "いずれにせよ、上の形では扱いづらいので、ヒトとマウスのオーソログの対応が1行ごとに並んだ形にしましょう。"
      ]
    },
    {
      "cell_type": "code",
      "metadata": {
        "id": "PrTGD2ETwRLu",
        "colab_type": "code",
        "colab": {
          "base_uri": "https://localhost:8080/",
          "height": 419
        },
        "outputId": "7e3c2a0d-c898-420d-de1b-fc5399f3d24b"
      },
      "source": [
        "dfhom.query(' `Common Organism Name` == \"mouse, laboratory\"')\n"
      ],
      "execution_count": 40,
      "outputs": [
        {
          "output_type": "execute_result",
          "data": {
            "text/html": [
              "<div>\n",
              "<style scoped>\n",
              "    .dataframe tbody tr th:only-of-type {\n",
              "        vertical-align: middle;\n",
              "    }\n",
              "\n",
              "    .dataframe tbody tr th {\n",
              "        vertical-align: top;\n",
              "    }\n",
              "\n",
              "    .dataframe thead th {\n",
              "        text-align: right;\n",
              "    }\n",
              "</style>\n",
              "<table border=\"1\" class=\"dataframe\">\n",
              "  <thead>\n",
              "    <tr style=\"text-align: right;\">\n",
              "      <th></th>\n",
              "      <th>HomoloGene ID</th>\n",
              "      <th>Symbol</th>\n",
              "      <th>Common Organism Name</th>\n",
              "    </tr>\n",
              "  </thead>\n",
              "  <tbody>\n",
              "    <tr>\n",
              "      <th>0</th>\n",
              "      <td>3</td>\n",
              "      <td>Acadm</td>\n",
              "      <td>mouse, laboratory</td>\n",
              "    </tr>\n",
              "    <tr>\n",
              "      <th>2</th>\n",
              "      <td>5</td>\n",
              "      <td>Acadvl</td>\n",
              "      <td>mouse, laboratory</td>\n",
              "    </tr>\n",
              "    <tr>\n",
              "      <th>4</th>\n",
              "      <td>6</td>\n",
              "      <td>Acat1</td>\n",
              "      <td>mouse, laboratory</td>\n",
              "    </tr>\n",
              "    <tr>\n",
              "      <th>6</th>\n",
              "      <td>7</td>\n",
              "      <td>Acvr1</td>\n",
              "      <td>mouse, laboratory</td>\n",
              "    </tr>\n",
              "    <tr>\n",
              "      <th>8</th>\n",
              "      <td>9</td>\n",
              "      <td>Sgca</td>\n",
              "      <td>mouse, laboratory</td>\n",
              "    </tr>\n",
              "    <tr>\n",
              "      <th>...</th>\n",
              "      <td>...</td>\n",
              "      <td>...</td>\n",
              "      <td>...</td>\n",
              "    </tr>\n",
              "    <tr>\n",
              "      <th>39517</th>\n",
              "      <td>133545</td>\n",
              "      <td>Gm5174</td>\n",
              "      <td>mouse, laboratory</td>\n",
              "    </tr>\n",
              "    <tr>\n",
              "      <th>39518</th>\n",
              "      <td>133545</td>\n",
              "      <td>Gm6713</td>\n",
              "      <td>mouse, laboratory</td>\n",
              "    </tr>\n",
              "    <tr>\n",
              "      <th>39519</th>\n",
              "      <td>133545</td>\n",
              "      <td>Gm6729</td>\n",
              "      <td>mouse, laboratory</td>\n",
              "    </tr>\n",
              "    <tr>\n",
              "      <th>39520</th>\n",
              "      <td>133547</td>\n",
              "      <td>Gm5792</td>\n",
              "      <td>mouse, laboratory</td>\n",
              "    </tr>\n",
              "    <tr>\n",
              "      <th>39521</th>\n",
              "      <td>133547</td>\n",
              "      <td>Gm6901</td>\n",
              "      <td>mouse, laboratory</td>\n",
              "    </tr>\n",
              "  </tbody>\n",
              "</table>\n",
              "<p>20678 rows × 3 columns</p>\n",
              "</div>"
            ],
            "text/plain": [
              "       HomoloGene ID  Symbol Common Organism Name\n",
              "0                  3   Acadm    mouse, laboratory\n",
              "2                  5  Acadvl    mouse, laboratory\n",
              "4                  6   Acat1    mouse, laboratory\n",
              "6                  7   Acvr1    mouse, laboratory\n",
              "8                  9    Sgca    mouse, laboratory\n",
              "...              ...     ...                  ...\n",
              "39517         133545  Gm5174    mouse, laboratory\n",
              "39518         133545  Gm6713    mouse, laboratory\n",
              "39519         133545  Gm6729    mouse, laboratory\n",
              "39520         133547  Gm5792    mouse, laboratory\n",
              "39521         133547  Gm6901    mouse, laboratory\n",
              "\n",
              "[20678 rows x 3 columns]"
            ]
          },
          "metadata": {
            "tags": []
          },
          "execution_count": 40
        }
      ]
    },
    {
      "cell_type": "code",
      "metadata": {
        "id": "hRvgvt4gzNkt",
        "colab_type": "code",
        "colab": {
          "base_uri": "https://localhost:8080/",
          "height": 204
        },
        "outputId": "a0cf0a4a-7a43-428d-94f8-63ce6df47b38"
      },
      "source": [
        "# マウスの行とヒトの表をそれぞれ抜き出し、 `full_join` で joinしている\n",
        "dfhom2 = pd.merge(\n",
        "    dfhom.query('`Common Organism Name` == \"mouse, laboratory\"').drop(columns='Common Organism Name'),\n",
        "    dfhom.query(' `Common Organism Name` == \"human\"').drop(columns='Common Organism Name'),\n",
        "    how = \"outer\",\n",
        "    on = \"HomoloGene ID\"\n",
        ")\n",
        "\n",
        "dfhom2 = dfhom2.rename(columns={\"Symbol_x\": \"mouse\", \"Symbol_y\": \"human\"})\n",
        "\n",
        "dfhom2.head()"
      ],
      "execution_count": 41,
      "outputs": [
        {
          "output_type": "execute_result",
          "data": {
            "text/html": [
              "<div>\n",
              "<style scoped>\n",
              "    .dataframe tbody tr th:only-of-type {\n",
              "        vertical-align: middle;\n",
              "    }\n",
              "\n",
              "    .dataframe tbody tr th {\n",
              "        vertical-align: top;\n",
              "    }\n",
              "\n",
              "    .dataframe thead th {\n",
              "        text-align: right;\n",
              "    }\n",
              "</style>\n",
              "<table border=\"1\" class=\"dataframe\">\n",
              "  <thead>\n",
              "    <tr style=\"text-align: right;\">\n",
              "      <th></th>\n",
              "      <th>HomoloGene ID</th>\n",
              "      <th>mouse</th>\n",
              "      <th>human</th>\n",
              "    </tr>\n",
              "  </thead>\n",
              "  <tbody>\n",
              "    <tr>\n",
              "      <th>0</th>\n",
              "      <td>3</td>\n",
              "      <td>Acadm</td>\n",
              "      <td>ACADM</td>\n",
              "    </tr>\n",
              "    <tr>\n",
              "      <th>1</th>\n",
              "      <td>5</td>\n",
              "      <td>Acadvl</td>\n",
              "      <td>ACADVL</td>\n",
              "    </tr>\n",
              "    <tr>\n",
              "      <th>2</th>\n",
              "      <td>6</td>\n",
              "      <td>Acat1</td>\n",
              "      <td>ACAT1</td>\n",
              "    </tr>\n",
              "    <tr>\n",
              "      <th>3</th>\n",
              "      <td>7</td>\n",
              "      <td>Acvr1</td>\n",
              "      <td>ACVR1</td>\n",
              "    </tr>\n",
              "    <tr>\n",
              "      <th>4</th>\n",
              "      <td>9</td>\n",
              "      <td>Sgca</td>\n",
              "      <td>SGCA</td>\n",
              "    </tr>\n",
              "  </tbody>\n",
              "</table>\n",
              "</div>"
            ],
            "text/plain": [
              "   HomoloGene ID   mouse   human\n",
              "0              3   Acadm   ACADM\n",
              "1              5  Acadvl  ACADVL\n",
              "2              6   Acat1   ACAT1\n",
              "3              7   Acvr1   ACVR1\n",
              "4              9    Sgca    SGCA"
            ]
          },
          "metadata": {
            "tags": []
          },
          "execution_count": 41
        }
      ]
    },
    {
      "cell_type": "markdown",
      "metadata": {
        "id": "bDxnLxmDzNku",
        "colab_type": "text"
      },
      "source": [
        "## リガンド-受容体関係のデータ\n",
        "\n",
        "（`From` がリガンドで、 `To` が受容体）\n"
      ]
    },
    {
      "cell_type": "code",
      "metadata": {
        "id": "ev4eXiMvzNkv",
        "colab_type": "code",
        "colab": {
          "base_uri": "https://localhost:8080/",
          "height": 34
        },
        "outputId": "a2b7dab1-776e-4335-bdfb-a423d0b86fc6"
      },
      "source": [
        "# 読み込み\n",
        "dflr =  pd.read_csv('/content/drive/My Drive/2020 L-1　情報科学・数理科学を用いた医学研究/07/data/CCCExplorer/LR_manual_revised.txt', sep='\\t')\n",
        "\n",
        "# 何行何列\n",
        "dflr.shape"
      ],
      "execution_count": 42,
      "outputs": [
        {
          "output_type": "execute_result",
          "data": {
            "text/plain": [
              "(1427, 2)"
            ]
          },
          "metadata": {
            "tags": []
          },
          "execution_count": 42
        }
      ]
    },
    {
      "cell_type": "code",
      "metadata": {
        "id": "Eb0Yll4H1Q6k",
        "colab_type": "code",
        "colab": {
          "base_uri": "https://localhost:8080/",
          "height": 204
        },
        "outputId": "c3f2f8fd-7d28-44be-e775-36b7924e8680"
      },
      "source": [
        "\n",
        "# 頭\n",
        "dflr.head()"
      ],
      "execution_count": 43,
      "outputs": [
        {
          "output_type": "execute_result",
          "data": {
            "text/html": [
              "<div>\n",
              "<style scoped>\n",
              "    .dataframe tbody tr th:only-of-type {\n",
              "        vertical-align: middle;\n",
              "    }\n",
              "\n",
              "    .dataframe tbody tr th {\n",
              "        vertical-align: top;\n",
              "    }\n",
              "\n",
              "    .dataframe thead th {\n",
              "        text-align: right;\n",
              "    }\n",
              "</style>\n",
              "<table border=\"1\" class=\"dataframe\">\n",
              "  <thead>\n",
              "    <tr style=\"text-align: right;\">\n",
              "      <th></th>\n",
              "      <th>From</th>\n",
              "      <th>To</th>\n",
              "    </tr>\n",
              "  </thead>\n",
              "  <tbody>\n",
              "    <tr>\n",
              "      <th>0</th>\n",
              "      <td>CCK</td>\n",
              "      <td>CCKAR</td>\n",
              "    </tr>\n",
              "    <tr>\n",
              "      <th>1</th>\n",
              "      <td>GAST</td>\n",
              "      <td>CCKBR</td>\n",
              "    </tr>\n",
              "    <tr>\n",
              "      <th>2</th>\n",
              "      <td>GRP</td>\n",
              "      <td>GRPR</td>\n",
              "    </tr>\n",
              "    <tr>\n",
              "      <th>3</th>\n",
              "      <td>IL17F</td>\n",
              "      <td>IL17RA</td>\n",
              "    </tr>\n",
              "    <tr>\n",
              "      <th>4</th>\n",
              "      <td>NTN1</td>\n",
              "      <td>DSCAM</td>\n",
              "    </tr>\n",
              "  </tbody>\n",
              "</table>\n",
              "</div>"
            ],
            "text/plain": [
              "    From      To\n",
              "0    CCK   CCKAR\n",
              "1   GAST   CCKBR\n",
              "2    GRP    GRPR\n",
              "3  IL17F  IL17RA\n",
              "4   NTN1   DSCAM"
            ]
          },
          "metadata": {
            "tags": []
          },
          "execution_count": 43
        }
      ]
    },
    {
      "cell_type": "markdown",
      "metadata": {
        "id": "djelGLnFzNkw",
        "colab_type": "text"
      },
      "source": [
        "## 遺伝子のリストとヒト-マウスオーソログの表を結合する\n",
        "\n",
        "遺伝子のリストとヒト-マウスオーソログの表を結合することで、マウスの遺伝子リストであってもヒトの遺伝子に関するデータベースの情報と照合することができるようになります。\n",
        "\n",
        "そのために、JOIN をします。JOINは２つの表x, yそれぞれの列を比較し、x,yを結合した新しい表を作る操作です。\n",
        "\n",
        "比較する列をキーと呼びます。表 x, y のキーがユニークで同一であれば単に横に連結すればいいですが、実際には、xもしくはyまたは両方で足りない/余分なキーがある場合があり、そのような場合にどう処理するかによって、JOINに様々な種類があります。\n",
        "\n",
        "- join について https://qiita.com/matsuou1/items/b1bd9778610e3a586e71"
      ]
    },
    {
      "cell_type": "code",
      "metadata": {
        "id": "Flhd9WWczNkx",
        "colab_type": "code",
        "colab": {
          "base_uri": "https://localhost:8080/",
          "height": 34
        },
        "outputId": "1e899623-8ec1-4aa0-b7f3-b9804b06f82c"
      },
      "source": [
        "# ヒト-マウスオーソログ関係の表と遺伝子リスト表を結合する\n",
        "## `left_join` は一番目の表（データフレーム) の\b行は全部残して、JOINを行う\n",
        "deg_macrophage_tumor_human = pd.merge(\n",
        "    deg_macrophage_tumor, \n",
        "    dfhom2, \n",
        "    how='left',\n",
        "    left_on='gene_id',\n",
        "    right_on='mouse'\n",
        ")\n",
        "\n",
        "# 行数と列数を確認する\n",
        "deg_macrophage_tumor_human.shape"
      ],
      "execution_count": 44,
      "outputs": [
        {
          "output_type": "execute_result",
          "data": {
            "text/plain": [
              "(1932, 9)"
            ]
          },
          "metadata": {
            "tags": []
          },
          "execution_count": 44
        }
      ]
    },
    {
      "cell_type": "code",
      "metadata": {
        "id": "f-_i_p3a3c9u",
        "colab_type": "code",
        "colab": {
          "base_uri": "https://localhost:8080/",
          "height": 241
        },
        "outputId": "fed9e58f-7b53-4c7f-84c4-ce3f66135eb4"
      },
      "source": [
        "# head\n",
        "## deg_macrophage_tumor にあっても dfhom2 になかった列では、 `HomoloGene ID`やhumanが欠損値 (NA) になっている\n",
        "deg_macrophage_tumor_human.head()"
      ],
      "execution_count": 45,
      "outputs": [
        {
          "output_type": "execute_result",
          "data": {
            "text/html": [
              "<div>\n",
              "<style scoped>\n",
              "    .dataframe tbody tr th:only-of-type {\n",
              "        vertical-align: middle;\n",
              "    }\n",
              "\n",
              "    .dataframe tbody tr th {\n",
              "        vertical-align: top;\n",
              "    }\n",
              "\n",
              "    .dataframe thead th {\n",
              "        text-align: right;\n",
              "    }\n",
              "</style>\n",
              "<table border=\"1\" class=\"dataframe\">\n",
              "  <thead>\n",
              "    <tr style=\"text-align: right;\">\n",
              "      <th></th>\n",
              "      <th>gene_id</th>\n",
              "      <th>value_1</th>\n",
              "      <th>value_2</th>\n",
              "      <th>log2(fold_change)</th>\n",
              "      <th>p_value</th>\n",
              "      <th>q_value</th>\n",
              "      <th>HomoloGene ID</th>\n",
              "      <th>mouse</th>\n",
              "      <th>human</th>\n",
              "    </tr>\n",
              "  </thead>\n",
              "  <tbody>\n",
              "    <tr>\n",
              "      <th>0</th>\n",
              "      <td>0610010O12Rik</td>\n",
              "      <td>4.19646</td>\n",
              "      <td>8.98632</td>\n",
              "      <td>1.098560</td>\n",
              "      <td>0.00095</td>\n",
              "      <td>0.004437</td>\n",
              "      <td>NaN</td>\n",
              "      <td>NaN</td>\n",
              "      <td>NaN</td>\n",
              "    </tr>\n",
              "    <tr>\n",
              "      <th>1</th>\n",
              "      <td>0610031J06Rik</td>\n",
              "      <td>95.85410</td>\n",
              "      <td>144.76100</td>\n",
              "      <td>0.594760</td>\n",
              "      <td>0.00020</td>\n",
              "      <td>0.001113</td>\n",
              "      <td>10562.0</td>\n",
              "      <td>0610031J06Rik</td>\n",
              "      <td>C1orf85</td>\n",
              "    </tr>\n",
              "    <tr>\n",
              "      <th>2</th>\n",
              "      <td>0610040J01Rik</td>\n",
              "      <td>1.49871</td>\n",
              "      <td>3.08289</td>\n",
              "      <td>1.040560</td>\n",
              "      <td>0.00420</td>\n",
              "      <td>0.016218</td>\n",
              "      <td>49537.0</td>\n",
              "      <td>0610040J01Rik</td>\n",
              "      <td>C4orf19</td>\n",
              "    </tr>\n",
              "    <tr>\n",
              "      <th>3</th>\n",
              "      <td>1110002B05Rik</td>\n",
              "      <td>39.23150</td>\n",
              "      <td>69.53890</td>\n",
              "      <td>0.825809</td>\n",
              "      <td>0.00005</td>\n",
              "      <td>0.000310</td>\n",
              "      <td>NaN</td>\n",
              "      <td>NaN</td>\n",
              "      <td>NaN</td>\n",
              "    </tr>\n",
              "    <tr>\n",
              "      <th>4</th>\n",
              "      <td>1110003E01Rik</td>\n",
              "      <td>20.49960</td>\n",
              "      <td>34.26780</td>\n",
              "      <td>0.741253</td>\n",
              "      <td>0.00005</td>\n",
              "      <td>0.000310</td>\n",
              "      <td>NaN</td>\n",
              "      <td>NaN</td>\n",
              "      <td>NaN</td>\n",
              "    </tr>\n",
              "  </tbody>\n",
              "</table>\n",
              "</div>"
            ],
            "text/plain": [
              "         gene_id   value_1    value_2  ...  HomoloGene ID          mouse    human\n",
              "0  0610010O12Rik   4.19646    8.98632  ...            NaN            NaN      NaN\n",
              "1  0610031J06Rik  95.85410  144.76100  ...        10562.0  0610031J06Rik  C1orf85\n",
              "2  0610040J01Rik   1.49871    3.08289  ...        49537.0  0610040J01Rik  C4orf19\n",
              "3  1110002B05Rik  39.23150   69.53890  ...            NaN            NaN      NaN\n",
              "4  1110003E01Rik  20.49960   34.26780  ...            NaN            NaN      NaN\n",
              "\n",
              "[5 rows x 9 columns]"
            ]
          },
          "metadata": {
            "tags": []
          },
          "execution_count": 45
        }
      ]
    },
    {
      "cell_type": "code",
      "metadata": {
        "id": "tk1PHibE2iML",
        "colab_type": "code",
        "colab": {
          "base_uri": "https://localhost:8080/",
          "height": 34
        },
        "outputId": "9f10637c-c3e3-4097-fa76-c2a74cad1e09"
      },
      "source": [
        "# NA の無いの行だけにする\n",
        "deg_macrophage_tumor_human = deg_macrophage_tumor_human.dropna()\n",
        "\n",
        "# 行数と列数を確認する\n",
        "deg_macrophage_tumor_human.shape"
      ],
      "execution_count": 46,
      "outputs": [
        {
          "output_type": "execute_result",
          "data": {
            "text/plain": [
              "(1674, 9)"
            ]
          },
          "metadata": {
            "tags": []
          },
          "execution_count": 46
        }
      ]
    },
    {
      "cell_type": "code",
      "metadata": {
        "id": "Rg7apdMh3om-",
        "colab_type": "code",
        "colab": {
          "base_uri": "https://localhost:8080/",
          "height": 241
        },
        "outputId": "7438f1a3-2b3a-4b0a-9d1e-33e907b43c39"
      },
      "source": [
        "# head\n",
        "deg_macrophage_tumor_human.head()"
      ],
      "execution_count": 47,
      "outputs": [
        {
          "output_type": "execute_result",
          "data": {
            "text/html": [
              "<div>\n",
              "<style scoped>\n",
              "    .dataframe tbody tr th:only-of-type {\n",
              "        vertical-align: middle;\n",
              "    }\n",
              "\n",
              "    .dataframe tbody tr th {\n",
              "        vertical-align: top;\n",
              "    }\n",
              "\n",
              "    .dataframe thead th {\n",
              "        text-align: right;\n",
              "    }\n",
              "</style>\n",
              "<table border=\"1\" class=\"dataframe\">\n",
              "  <thead>\n",
              "    <tr style=\"text-align: right;\">\n",
              "      <th></th>\n",
              "      <th>gene_id</th>\n",
              "      <th>value_1</th>\n",
              "      <th>value_2</th>\n",
              "      <th>log2(fold_change)</th>\n",
              "      <th>p_value</th>\n",
              "      <th>q_value</th>\n",
              "      <th>HomoloGene ID</th>\n",
              "      <th>mouse</th>\n",
              "      <th>human</th>\n",
              "    </tr>\n",
              "  </thead>\n",
              "  <tbody>\n",
              "    <tr>\n",
              "      <th>1</th>\n",
              "      <td>0610031J06Rik</td>\n",
              "      <td>95.854100</td>\n",
              "      <td>144.76100</td>\n",
              "      <td>0.594760</td>\n",
              "      <td>0.00020</td>\n",
              "      <td>0.001113</td>\n",
              "      <td>10562.0</td>\n",
              "      <td>0610031J06Rik</td>\n",
              "      <td>C1orf85</td>\n",
              "    </tr>\n",
              "    <tr>\n",
              "      <th>2</th>\n",
              "      <td>0610040J01Rik</td>\n",
              "      <td>1.498710</td>\n",
              "      <td>3.08289</td>\n",
              "      <td>1.040560</td>\n",
              "      <td>0.00420</td>\n",
              "      <td>0.016218</td>\n",
              "      <td>49537.0</td>\n",
              "      <td>0610040J01Rik</td>\n",
              "      <td>C4orf19</td>\n",
              "    </tr>\n",
              "    <tr>\n",
              "      <th>5</th>\n",
              "      <td>1110007C09Rik</td>\n",
              "      <td>22.560800</td>\n",
              "      <td>77.52120</td>\n",
              "      <td>1.780770</td>\n",
              "      <td>0.00005</td>\n",
              "      <td>0.000310</td>\n",
              "      <td>12269.0</td>\n",
              "      <td>1110007C09Rik</td>\n",
              "      <td>C9orf89</td>\n",
              "    </tr>\n",
              "    <tr>\n",
              "      <th>12</th>\n",
              "      <td>1700025G04Rik</td>\n",
              "      <td>1.123720</td>\n",
              "      <td>2.19438</td>\n",
              "      <td>0.965534</td>\n",
              "      <td>0.00350</td>\n",
              "      <td>0.013890</td>\n",
              "      <td>12776.0</td>\n",
              "      <td>1700025G04Rik</td>\n",
              "      <td>C1orf21</td>\n",
              "    </tr>\n",
              "    <tr>\n",
              "      <th>13</th>\n",
              "      <td>1700026D08Rik</td>\n",
              "      <td>0.584625</td>\n",
              "      <td>4.63796</td>\n",
              "      <td>2.987910</td>\n",
              "      <td>0.00005</td>\n",
              "      <td>0.000310</td>\n",
              "      <td>12605.0</td>\n",
              "      <td>1700026D08Rik</td>\n",
              "      <td>C15orf26</td>\n",
              "    </tr>\n",
              "  </tbody>\n",
              "</table>\n",
              "</div>"
            ],
            "text/plain": [
              "          gene_id    value_1    value_2  ...  HomoloGene ID          mouse     human\n",
              "1   0610031J06Rik  95.854100  144.76100  ...        10562.0  0610031J06Rik   C1orf85\n",
              "2   0610040J01Rik   1.498710    3.08289  ...        49537.0  0610040J01Rik   C4orf19\n",
              "5   1110007C09Rik  22.560800   77.52120  ...        12269.0  1110007C09Rik   C9orf89\n",
              "12  1700025G04Rik   1.123720    2.19438  ...        12776.0  1700025G04Rik   C1orf21\n",
              "13  1700026D08Rik   0.584625    4.63796  ...        12605.0  1700026D08Rik  C15orf26\n",
              "\n",
              "[5 rows x 9 columns]"
            ]
          },
          "metadata": {
            "tags": []
          },
          "execution_count": 47
        }
      ]
    },
    {
      "cell_type": "code",
      "metadata": {
        "id": "WuM3jX_ZzNkz",
        "colab_type": "code",
        "colab": {
          "base_uri": "https://localhost:8080/",
          "height": 34
        },
        "outputId": "ab032ce0-9696-49d0-a175-a60059d30a07"
      },
      "source": [
        "# ヒト-マウスオーソログ関係の表と遺伝子リスト表を結合する\n",
        "fpkm_epi_tumor_human = pd.merge(\n",
        "    fpkm_epi_tumor, \n",
        "    dfhom2, \n",
        "    how='left',\n",
        "    left_on='tracking_id',\n",
        "    right_on='mouse'\n",
        ")\n",
        "\n",
        "# 行数と列数を確認する\n",
        "fpkm_epi_tumor_human.shape"
      ],
      "execution_count": 48,
      "outputs": [
        {
          "output_type": "execute_result",
          "data": {
            "text/plain": [
              "(72726, 5)"
            ]
          },
          "metadata": {
            "tags": []
          },
          "execution_count": 48
        }
      ]
    },
    {
      "cell_type": "code",
      "metadata": {
        "id": "huoG7RRp4KZb",
        "colab_type": "code",
        "colab": {
          "base_uri": "https://localhost:8080/",
          "height": 204
        },
        "outputId": "ac7a6440-3a2b-4ad5-e273-dc62b541b5bb"
      },
      "source": [
        "# head\n",
        "fpkm_epi_tumor_human.head()"
      ],
      "execution_count": 49,
      "outputs": [
        {
          "output_type": "execute_result",
          "data": {
            "text/html": [
              "<div>\n",
              "<style scoped>\n",
              "    .dataframe tbody tr th:only-of-type {\n",
              "        vertical-align: middle;\n",
              "    }\n",
              "\n",
              "    .dataframe tbody tr th {\n",
              "        vertical-align: top;\n",
              "    }\n",
              "\n",
              "    .dataframe thead th {\n",
              "        text-align: right;\n",
              "    }\n",
              "</style>\n",
              "<table border=\"1\" class=\"dataframe\">\n",
              "  <thead>\n",
              "    <tr style=\"text-align: right;\">\n",
              "      <th></th>\n",
              "      <th>tracking_id</th>\n",
              "      <th>FPKM</th>\n",
              "      <th>HomoloGene ID</th>\n",
              "      <th>mouse</th>\n",
              "      <th>human</th>\n",
              "    </tr>\n",
              "  </thead>\n",
              "  <tbody>\n",
              "    <tr>\n",
              "      <th>0</th>\n",
              "      <td>0610007C21Rik</td>\n",
              "      <td>46.5889</td>\n",
              "      <td>NaN</td>\n",
              "      <td>NaN</td>\n",
              "      <td>NaN</td>\n",
              "    </tr>\n",
              "    <tr>\n",
              "      <th>1</th>\n",
              "      <td>0610007C21Rik</td>\n",
              "      <td>63.4719</td>\n",
              "      <td>NaN</td>\n",
              "      <td>NaN</td>\n",
              "      <td>NaN</td>\n",
              "    </tr>\n",
              "    <tr>\n",
              "      <th>2</th>\n",
              "      <td>0610007C21Rik</td>\n",
              "      <td>80.0110</td>\n",
              "      <td>NaN</td>\n",
              "      <td>NaN</td>\n",
              "      <td>NaN</td>\n",
              "    </tr>\n",
              "    <tr>\n",
              "      <th>3</th>\n",
              "      <td>0610007C21Rik</td>\n",
              "      <td>59.6297</td>\n",
              "      <td>NaN</td>\n",
              "      <td>NaN</td>\n",
              "      <td>NaN</td>\n",
              "    </tr>\n",
              "    <tr>\n",
              "      <th>4</th>\n",
              "      <td>0610007C21Rik</td>\n",
              "      <td>49.4234</td>\n",
              "      <td>NaN</td>\n",
              "      <td>NaN</td>\n",
              "      <td>NaN</td>\n",
              "    </tr>\n",
              "  </tbody>\n",
              "</table>\n",
              "</div>"
            ],
            "text/plain": [
              "     tracking_id     FPKM  HomoloGene ID mouse human\n",
              "0  0610007C21Rik  46.5889            NaN   NaN   NaN\n",
              "1  0610007C21Rik  63.4719            NaN   NaN   NaN\n",
              "2  0610007C21Rik  80.0110            NaN   NaN   NaN\n",
              "3  0610007C21Rik  59.6297            NaN   NaN   NaN\n",
              "4  0610007C21Rik  49.4234            NaN   NaN   NaN"
            ]
          },
          "metadata": {
            "tags": []
          },
          "execution_count": 49
        }
      ]
    },
    {
      "cell_type": "code",
      "metadata": {
        "id": "a8ocVsTb4K93",
        "colab_type": "code",
        "colab": {
          "base_uri": "https://localhost:8080/",
          "height": 34
        },
        "outputId": "d94797f9-4568-426a-fc89-8b4be93568bd"
      },
      "source": [
        "# NA が無いの行だけにする\n",
        "fpkm_epi_tumor_human = fpkm_epi_tumor_human.dropna()\n",
        "\n",
        "# 何行何列\n",
        "fpkm_epi_tumor_human.shape"
      ],
      "execution_count": 50,
      "outputs": [
        {
          "output_type": "execute_result",
          "data": {
            "text/plain": [
              "(62264, 5)"
            ]
          },
          "metadata": {
            "tags": []
          },
          "execution_count": 50
        }
      ]
    },
    {
      "cell_type": "code",
      "metadata": {
        "id": "7hYTX0nf4K0q",
        "colab_type": "code",
        "colab": {
          "base_uri": "https://localhost:8080/",
          "height": 204
        },
        "outputId": "a12f5b1c-e959-41ac-d653-3b698314f4f6"
      },
      "source": [
        "# head\n",
        "fpkm_epi_tumor_human.head()"
      ],
      "execution_count": 51,
      "outputs": [
        {
          "output_type": "execute_result",
          "data": {
            "text/html": [
              "<div>\n",
              "<style scoped>\n",
              "    .dataframe tbody tr th:only-of-type {\n",
              "        vertical-align: middle;\n",
              "    }\n",
              "\n",
              "    .dataframe tbody tr th {\n",
              "        vertical-align: top;\n",
              "    }\n",
              "\n",
              "    .dataframe thead th {\n",
              "        text-align: right;\n",
              "    }\n",
              "</style>\n",
              "<table border=\"1\" class=\"dataframe\">\n",
              "  <thead>\n",
              "    <tr style=\"text-align: right;\">\n",
              "      <th></th>\n",
              "      <th>tracking_id</th>\n",
              "      <th>FPKM</th>\n",
              "      <th>HomoloGene ID</th>\n",
              "      <th>mouse</th>\n",
              "      <th>human</th>\n",
              "    </tr>\n",
              "  </thead>\n",
              "  <tbody>\n",
              "    <tr>\n",
              "      <th>18</th>\n",
              "      <td>0610007P14Rik</td>\n",
              "      <td>23.5014</td>\n",
              "      <td>38284.0</td>\n",
              "      <td>0610007P14Rik</td>\n",
              "      <td>C14orf1</td>\n",
              "    </tr>\n",
              "    <tr>\n",
              "      <th>19</th>\n",
              "      <td>0610007P14Rik</td>\n",
              "      <td>33.9843</td>\n",
              "      <td>38284.0</td>\n",
              "      <td>0610007P14Rik</td>\n",
              "      <td>C14orf1</td>\n",
              "    </tr>\n",
              "    <tr>\n",
              "      <th>20</th>\n",
              "      <td>0610007P14Rik</td>\n",
              "      <td>24.8046</td>\n",
              "      <td>38284.0</td>\n",
              "      <td>0610007P14Rik</td>\n",
              "      <td>C14orf1</td>\n",
              "    </tr>\n",
              "    <tr>\n",
              "      <th>21</th>\n",
              "      <td>0610007P14Rik</td>\n",
              "      <td>25.0812</td>\n",
              "      <td>38284.0</td>\n",
              "      <td>0610007P14Rik</td>\n",
              "      <td>C14orf1</td>\n",
              "    </tr>\n",
              "    <tr>\n",
              "      <th>22</th>\n",
              "      <td>0610007P14Rik</td>\n",
              "      <td>21.5133</td>\n",
              "      <td>38284.0</td>\n",
              "      <td>0610007P14Rik</td>\n",
              "      <td>C14orf1</td>\n",
              "    </tr>\n",
              "  </tbody>\n",
              "</table>\n",
              "</div>"
            ],
            "text/plain": [
              "      tracking_id     FPKM  HomoloGene ID          mouse    human\n",
              "18  0610007P14Rik  23.5014        38284.0  0610007P14Rik  C14orf1\n",
              "19  0610007P14Rik  33.9843        38284.0  0610007P14Rik  C14orf1\n",
              "20  0610007P14Rik  24.8046        38284.0  0610007P14Rik  C14orf1\n",
              "21  0610007P14Rik  25.0812        38284.0  0610007P14Rik  C14orf1\n",
              "22  0610007P14Rik  21.5133        38284.0  0610007P14Rik  C14orf1"
            ]
          },
          "metadata": {
            "tags": []
          },
          "execution_count": 51
        }
      ]
    },
    {
      "cell_type": "markdown",
      "metadata": {
        "id": "s8JVQpTXzNk1",
        "colab_type": "text"
      },
      "source": [
        "## リガンド-受容体関係の情報に発現/発現変動遺伝子の情報を加える\n",
        "\n",
        "`A %in% B` はAの各要素がBに含まれるかをTRUE/FALSEのベクトルで返す関数です。"
      ]
    },
    {
      "cell_type": "code",
      "metadata": {
        "id": "Hyn6LJUo5Byx",
        "colab_type": "code",
        "colab": {
          "base_uri": "https://localhost:8080/",
          "height": 204
        },
        "outputId": "2618f8f4-def1-4c66-ad6b-d85cd10e87dc"
      },
      "source": [
        "# ligand_up_in_tumor_macrophage という列を追加する。\n",
        "## deg_macrophage_tumor_human に リガンドが含まれるならば TRUE 、そうでないならば FALSE となる\n",
        "dflr['ligand_up_in_tumor_macrophage'] = dflr['From'].isin(deg_macrophage_tumor_human['human'])\n",
        "\n",
        "# head\n",
        "dflr.head()"
      ],
      "execution_count": 52,
      "outputs": [
        {
          "output_type": "execute_result",
          "data": {
            "text/html": [
              "<div>\n",
              "<style scoped>\n",
              "    .dataframe tbody tr th:only-of-type {\n",
              "        vertical-align: middle;\n",
              "    }\n",
              "\n",
              "    .dataframe tbody tr th {\n",
              "        vertical-align: top;\n",
              "    }\n",
              "\n",
              "    .dataframe thead th {\n",
              "        text-align: right;\n",
              "    }\n",
              "</style>\n",
              "<table border=\"1\" class=\"dataframe\">\n",
              "  <thead>\n",
              "    <tr style=\"text-align: right;\">\n",
              "      <th></th>\n",
              "      <th>From</th>\n",
              "      <th>To</th>\n",
              "      <th>ligand_up_in_tumor_macrophage</th>\n",
              "    </tr>\n",
              "  </thead>\n",
              "  <tbody>\n",
              "    <tr>\n",
              "      <th>0</th>\n",
              "      <td>CCK</td>\n",
              "      <td>CCKAR</td>\n",
              "      <td>False</td>\n",
              "    </tr>\n",
              "    <tr>\n",
              "      <th>1</th>\n",
              "      <td>GAST</td>\n",
              "      <td>CCKBR</td>\n",
              "      <td>False</td>\n",
              "    </tr>\n",
              "    <tr>\n",
              "      <th>2</th>\n",
              "      <td>GRP</td>\n",
              "      <td>GRPR</td>\n",
              "      <td>False</td>\n",
              "    </tr>\n",
              "    <tr>\n",
              "      <th>3</th>\n",
              "      <td>IL17F</td>\n",
              "      <td>IL17RA</td>\n",
              "      <td>False</td>\n",
              "    </tr>\n",
              "    <tr>\n",
              "      <th>4</th>\n",
              "      <td>NTN1</td>\n",
              "      <td>DSCAM</td>\n",
              "      <td>False</td>\n",
              "    </tr>\n",
              "  </tbody>\n",
              "</table>\n",
              "</div>"
            ],
            "text/plain": [
              "    From      To  ligand_up_in_tumor_macrophage\n",
              "0    CCK   CCKAR                          False\n",
              "1   GAST   CCKBR                          False\n",
              "2    GRP    GRPR                          False\n",
              "3  IL17F  IL17RA                          False\n",
              "4   NTN1   DSCAM                          False"
            ]
          },
          "metadata": {
            "tags": []
          },
          "execution_count": 52
        }
      ]
    },
    {
      "cell_type": "code",
      "metadata": {
        "id": "t166TYq78Be2",
        "colab_type": "code",
        "colab": {
          "base_uri": "https://localhost:8080/",
          "height": 85
        },
        "outputId": "21e15623-a099-4988-ef6c-aca2f62ded9d"
      },
      "source": [
        "# ligand_up_in_tumor_macrophage の数を集計\n",
        "dflr.groupby('ligand_up_in_tumor_macrophage').size()"
      ],
      "execution_count": 53,
      "outputs": [
        {
          "output_type": "execute_result",
          "data": {
            "text/plain": [
              "ligand_up_in_tumor_macrophage\n",
              "False    1255\n",
              "True      172\n",
              "dtype: int64"
            ]
          },
          "metadata": {
            "tags": []
          },
          "execution_count": 53
        }
      ]
    },
    {
      "cell_type": "code",
      "metadata": {
        "id": "Je8-Ov9BzNk3",
        "colab_type": "code",
        "colab": {
          "base_uri": "https://localhost:8080/",
          "height": 204
        },
        "outputId": "db0df7e3-82ca-4743-be95-7937693b2614"
      },
      "source": [
        "# receptor_expressed_in_tumor_macrophage という列を追加する。\n",
        "## fpkm_epi_tumor_human に 受容体が含まれるならばTRUE、そうでないならばFALSSEとなる\n",
        "dflr['receptor_expressed_in_tumor_macrophage'] = dflr['To'].isin(fpkm_epi_tumor_human['human'])\n",
        "\n",
        "# head\n",
        "dflr.head()"
      ],
      "execution_count": 54,
      "outputs": [
        {
          "output_type": "execute_result",
          "data": {
            "text/html": [
              "<div>\n",
              "<style scoped>\n",
              "    .dataframe tbody tr th:only-of-type {\n",
              "        vertical-align: middle;\n",
              "    }\n",
              "\n",
              "    .dataframe tbody tr th {\n",
              "        vertical-align: top;\n",
              "    }\n",
              "\n",
              "    .dataframe thead th {\n",
              "        text-align: right;\n",
              "    }\n",
              "</style>\n",
              "<table border=\"1\" class=\"dataframe\">\n",
              "  <thead>\n",
              "    <tr style=\"text-align: right;\">\n",
              "      <th></th>\n",
              "      <th>From</th>\n",
              "      <th>To</th>\n",
              "      <th>ligand_up_in_tumor_macrophage</th>\n",
              "      <th>receptor_expressed_in_tumor_macrophage</th>\n",
              "    </tr>\n",
              "  </thead>\n",
              "  <tbody>\n",
              "    <tr>\n",
              "      <th>0</th>\n",
              "      <td>CCK</td>\n",
              "      <td>CCKAR</td>\n",
              "      <td>False</td>\n",
              "      <td>True</td>\n",
              "    </tr>\n",
              "    <tr>\n",
              "      <th>1</th>\n",
              "      <td>GAST</td>\n",
              "      <td>CCKBR</td>\n",
              "      <td>False</td>\n",
              "      <td>False</td>\n",
              "    </tr>\n",
              "    <tr>\n",
              "      <th>2</th>\n",
              "      <td>GRP</td>\n",
              "      <td>GRPR</td>\n",
              "      <td>False</td>\n",
              "      <td>False</td>\n",
              "    </tr>\n",
              "    <tr>\n",
              "      <th>3</th>\n",
              "      <td>IL17F</td>\n",
              "      <td>IL17RA</td>\n",
              "      <td>False</td>\n",
              "      <td>True</td>\n",
              "    </tr>\n",
              "    <tr>\n",
              "      <th>4</th>\n",
              "      <td>NTN1</td>\n",
              "      <td>DSCAM</td>\n",
              "      <td>False</td>\n",
              "      <td>False</td>\n",
              "    </tr>\n",
              "  </tbody>\n",
              "</table>\n",
              "</div>"
            ],
            "text/plain": [
              "    From  ... receptor_expressed_in_tumor_macrophage\n",
              "0    CCK  ...                                   True\n",
              "1   GAST  ...                                  False\n",
              "2    GRP  ...                                  False\n",
              "3  IL17F  ...                                   True\n",
              "4   NTN1  ...                                  False\n",
              "\n",
              "[5 rows x 4 columns]"
            ]
          },
          "metadata": {
            "tags": []
          },
          "execution_count": 54
        }
      ]
    },
    {
      "cell_type": "code",
      "metadata": {
        "id": "-gAWZatJ8egU",
        "colab_type": "code",
        "colab": {
          "base_uri": "https://localhost:8080/",
          "height": 85
        },
        "outputId": "c1718f72-4dc3-4b9d-a6e4-b19dbff21837"
      },
      "source": [
        "# receptor_expressed_in_tumor_macrophage の数を集計\n",
        "dflr.groupby('receptor_expressed_in_tumor_macrophage').size()"
      ],
      "execution_count": 55,
      "outputs": [
        {
          "output_type": "execute_result",
          "data": {
            "text/plain": [
              "receptor_expressed_in_tumor_macrophage\n",
              "False     426\n",
              "True     1001\n",
              "dtype: int64"
            ]
          },
          "metadata": {
            "tags": []
          },
          "execution_count": 55
        }
      ]
    },
    {
      "cell_type": "code",
      "metadata": {
        "id": "ArxZ1rmGzNk5",
        "colab_type": "code",
        "colab": {
          "base_uri": "https://localhost:8080/",
          "height": 34
        },
        "outputId": "0382fa1f-86a8-4a5b-c767-5c1f36ff4558"
      },
      "source": [
        "# `ligand_up_in_tumor_macrophage` と  `receptor_expressed_in_tumor_macrophage` が両方TRUEである行を探す\n",
        "dflr_pair = dflr.query('ligand_up_in_tumor_macrophage == True & receptor_expressed_in_tumor_macrophage == True')\n",
        "\n",
        "# dim\n",
        "dflr_pair.shape"
      ],
      "execution_count": 56,
      "outputs": [
        {
          "output_type": "execute_result",
          "data": {
            "text/plain": [
              "(129, 4)"
            ]
          },
          "metadata": {
            "tags": []
          },
          "execution_count": 56
        }
      ]
    },
    {
      "cell_type": "code",
      "metadata": {
        "id": "pCrShBAj9HrY",
        "colab_type": "code",
        "colab": {
          "base_uri": "https://localhost:8080/",
          "height": 204
        },
        "outputId": "39e77643-941e-4b2f-f4cc-5e9ac55a3e67"
      },
      "source": [
        "# head\n",
        "dflr_pair.head()"
      ],
      "execution_count": 57,
      "outputs": [
        {
          "output_type": "execute_result",
          "data": {
            "text/html": [
              "<div>\n",
              "<style scoped>\n",
              "    .dataframe tbody tr th:only-of-type {\n",
              "        vertical-align: middle;\n",
              "    }\n",
              "\n",
              "    .dataframe tbody tr th {\n",
              "        vertical-align: top;\n",
              "    }\n",
              "\n",
              "    .dataframe thead th {\n",
              "        text-align: right;\n",
              "    }\n",
              "</style>\n",
              "<table border=\"1\" class=\"dataframe\">\n",
              "  <thead>\n",
              "    <tr style=\"text-align: right;\">\n",
              "      <th></th>\n",
              "      <th>From</th>\n",
              "      <th>To</th>\n",
              "      <th>ligand_up_in_tumor_macrophage</th>\n",
              "      <th>receptor_expressed_in_tumor_macrophage</th>\n",
              "    </tr>\n",
              "  </thead>\n",
              "  <tbody>\n",
              "    <tr>\n",
              "      <th>15</th>\n",
              "      <td>B2M</td>\n",
              "      <td>HFE</td>\n",
              "      <td>True</td>\n",
              "      <td>True</td>\n",
              "    </tr>\n",
              "    <tr>\n",
              "      <th>18</th>\n",
              "      <td>C3</td>\n",
              "      <td>ITGB2</td>\n",
              "      <td>True</td>\n",
              "      <td>True</td>\n",
              "    </tr>\n",
              "    <tr>\n",
              "      <th>20</th>\n",
              "      <td>C3</td>\n",
              "      <td>ITGAX</td>\n",
              "      <td>True</td>\n",
              "      <td>True</td>\n",
              "    </tr>\n",
              "    <tr>\n",
              "      <th>27</th>\n",
              "      <td>CREG1</td>\n",
              "      <td>IGF2R</td>\n",
              "      <td>True</td>\n",
              "      <td>True</td>\n",
              "    </tr>\n",
              "    <tr>\n",
              "      <th>55</th>\n",
              "      <td>GAS6</td>\n",
              "      <td>TYRO3</td>\n",
              "      <td>True</td>\n",
              "      <td>True</td>\n",
              "    </tr>\n",
              "  </tbody>\n",
              "</table>\n",
              "</div>"
            ],
            "text/plain": [
              "     From  ... receptor_expressed_in_tumor_macrophage\n",
              "15    B2M  ...                                   True\n",
              "18     C3  ...                                   True\n",
              "20     C3  ...                                   True\n",
              "27  CREG1  ...                                   True\n",
              "55   GAS6  ...                                   True\n",
              "\n",
              "[5 rows x 4 columns]"
            ]
          },
          "metadata": {
            "tags": []
          },
          "execution_count": 57
        }
      ]
    },
    {
      "cell_type": "markdown",
      "metadata": {
        "id": "DrjhFr0jzNk7",
        "colab_type": "text"
      },
      "source": [
        "先行研究で、腫瘍組織内マクロファージで発現上昇が見られるリガンドも入っていた\n",
        "\n",
        "- \"intratumoral macrophages express increased cathepsin K, COX-2, MMP-9, PDGF-B, uPA, VEGFA, and HGF (Wang et al., 2011)\"\n",
        "    - Wang et al., 2011 http://www.sciencedirect.com/science/article/pii/S0169500211002546"
      ]
    },
    {
      "cell_type": "code",
      "metadata": {
        "id": "P7vWCcALzNk8",
        "colab_type": "code",
        "colab": {
          "base_uri": "https://localhost:8080/",
          "height": 80
        },
        "outputId": "29e510f1-62d4-4ffd-f280-c2a880898d57"
      },
      "source": [
        "dflr_pair.query('From == \"HGF\"')"
      ],
      "execution_count": 58,
      "outputs": [
        {
          "output_type": "execute_result",
          "data": {
            "text/html": [
              "<div>\n",
              "<style scoped>\n",
              "    .dataframe tbody tr th:only-of-type {\n",
              "        vertical-align: middle;\n",
              "    }\n",
              "\n",
              "    .dataframe tbody tr th {\n",
              "        vertical-align: top;\n",
              "    }\n",
              "\n",
              "    .dataframe thead th {\n",
              "        text-align: right;\n",
              "    }\n",
              "</style>\n",
              "<table border=\"1\" class=\"dataframe\">\n",
              "  <thead>\n",
              "    <tr style=\"text-align: right;\">\n",
              "      <th></th>\n",
              "      <th>From</th>\n",
              "      <th>To</th>\n",
              "      <th>ligand_up_in_tumor_macrophage</th>\n",
              "      <th>receptor_expressed_in_tumor_macrophage</th>\n",
              "    </tr>\n",
              "  </thead>\n",
              "  <tbody>\n",
              "    <tr>\n",
              "      <th>241</th>\n",
              "      <td>HGF</td>\n",
              "      <td>MET</td>\n",
              "      <td>True</td>\n",
              "      <td>True</td>\n",
              "    </tr>\n",
              "  </tbody>\n",
              "</table>\n",
              "</div>"
            ],
            "text/plain": [
              "    From  ... receptor_expressed_in_tumor_macrophage\n",
              "241  HGF  ...                                   True\n",
              "\n",
              "[1 rows x 4 columns]"
            ]
          },
          "metadata": {
            "tags": []
          },
          "execution_count": 58
        }
      ]
    },
    {
      "cell_type": "markdown",
      "metadata": {
        "id": "2mHzn05qzNk-",
        "colab_type": "text"
      },
      "source": [
        "## とりたいものがとれてきているか可視化して確認\n",
        "\n",
        "GEOのFPKMの発現量行列を用いて、上の方法でとってきたリガンドレセプターのペアが本当に\n",
        "\n",
        "- 腫瘍組織内マクロファージで多いリガンドか？\n",
        "- 腫瘍細胞で発現している受容体か？\n",
        "\n",
        "ということを確かめました。\n",
        "\n",
        "GEOのデータはあらかじめダウンロードしておきました。\n",
        "\n",
        "GEOのページのメタデータをみないとわからないのですが、Tum1, Tum2, Tum3 が腫瘍組織内マクロファージ、WT1, WT2が野生型組織でのマクロファージ、Tum9, Tum10, Tum11が腫瘍細胞です。"
      ]
    },
    {
      "cell_type": "code",
      "metadata": {
        "id": "XWj4TTwwzNk-",
        "colab_type": "code",
        "colab": {
          "base_uri": "https://localhost:8080/",
          "height": 34
        },
        "outputId": "ae9709cf-c0f5-462b-a811-8291e107cad6"
      },
      "source": [
        "# データの読み込み\n",
        "df_fpkm = pd.read_csv('/content/drive/My Drive/2020 L-1　情報科学・数理科学を用いた医学研究/07/data/GSE59831_processed_data_FPKM.txt', sep='\\t')\n",
        "\n",
        "# 行数と列数を確認する\n",
        "df_fpkm.shape"
      ],
      "execution_count": 59,
      "outputs": [
        {
          "output_type": "execute_result",
          "data": {
            "text/plain": [
              "(16024, 29)"
            ]
          },
          "metadata": {
            "tags": []
          },
          "execution_count": 59
        }
      ]
    },
    {
      "cell_type": "code",
      "metadata": {
        "id": "ldTsM9yL93mX",
        "colab_type": "code",
        "colab": {
          "base_uri": "https://localhost:8080/",
          "height": 224
        },
        "outputId": "33745925-561a-46b3-96ee-47301789ac46"
      },
      "source": [
        "# 様子を見る\n",
        "df_fpkm.head()"
      ],
      "execution_count": 60,
      "outputs": [
        {
          "output_type": "execute_result",
          "data": {
            "text/html": [
              "<div>\n",
              "<style scoped>\n",
              "    .dataframe tbody tr th:only-of-type {\n",
              "        vertical-align: middle;\n",
              "    }\n",
              "\n",
              "    .dataframe tbody tr th {\n",
              "        vertical-align: top;\n",
              "    }\n",
              "\n",
              "    .dataframe thead th {\n",
              "        text-align: right;\n",
              "    }\n",
              "</style>\n",
              "<table border=\"1\" class=\"dataframe\">\n",
              "  <thead>\n",
              "    <tr style=\"text-align: right;\">\n",
              "      <th></th>\n",
              "      <th>mice_gene_symbol</th>\n",
              "      <th>human_gene_symbol</th>\n",
              "      <th>Tum1</th>\n",
              "      <th>Tum2</th>\n",
              "      <th>Tum3</th>\n",
              "      <th>WT1</th>\n",
              "      <th>WT2</th>\n",
              "      <th>Tum4</th>\n",
              "      <th>Tum5</th>\n",
              "      <th>WT3</th>\n",
              "      <th>WT4</th>\n",
              "      <th>Tum6</th>\n",
              "      <th>Tum7</th>\n",
              "      <th>Tum8</th>\n",
              "      <th>WT5</th>\n",
              "      <th>WT6</th>\n",
              "      <th>WT7</th>\n",
              "      <th>Tum9</th>\n",
              "      <th>Tum10</th>\n",
              "      <th>Tum11</th>\n",
              "      <th>WT8</th>\n",
              "      <th>WT9</th>\n",
              "      <th>WT10</th>\n",
              "      <th>Tum12</th>\n",
              "      <th>Tum13</th>\n",
              "      <th>Tum14</th>\n",
              "      <th>WT11</th>\n",
              "      <th>WT12</th>\n",
              "      <th>WT13</th>\n",
              "    </tr>\n",
              "  </thead>\n",
              "  <tbody>\n",
              "    <tr>\n",
              "      <th>0</th>\n",
              "      <td>0610007P14Rik</td>\n",
              "      <td>C14orf1</td>\n",
              "      <td>9.31368</td>\n",
              "      <td>10.13680</td>\n",
              "      <td>12.26660</td>\n",
              "      <td>11.92950</td>\n",
              "      <td>11.34170</td>\n",
              "      <td>10.45680</td>\n",
              "      <td>10.44590</td>\n",
              "      <td>13.05840</td>\n",
              "      <td>8.73670</td>\n",
              "      <td>3.90454</td>\n",
              "      <td>2.53831</td>\n",
              "      <td>3.33712</td>\n",
              "      <td>1.14100</td>\n",
              "      <td>1.553270</td>\n",
              "      <td>2.70026</td>\n",
              "      <td>21.51330</td>\n",
              "      <td>25.08120</td>\n",
              "      <td>21.99580</td>\n",
              "      <td>33.98430</td>\n",
              "      <td>23.50140</td>\n",
              "      <td>24.80460</td>\n",
              "      <td>17.16570</td>\n",
              "      <td>12.51170</td>\n",
              "      <td>16.03630</td>\n",
              "      <td>14.69160</td>\n",
              "      <td>14.03290</td>\n",
              "      <td>14.20440</td>\n",
              "    </tr>\n",
              "    <tr>\n",
              "      <th>1</th>\n",
              "      <td>0610009D07Rik</td>\n",
              "      <td>SF3B14</td>\n",
              "      <td>25.35280</td>\n",
              "      <td>32.25990</td>\n",
              "      <td>26.61000</td>\n",
              "      <td>29.73440</td>\n",
              "      <td>37.16520</td>\n",
              "      <td>37.57330</td>\n",
              "      <td>30.74340</td>\n",
              "      <td>32.30680</td>\n",
              "      <td>25.08490</td>\n",
              "      <td>31.15220</td>\n",
              "      <td>33.47690</td>\n",
              "      <td>36.29860</td>\n",
              "      <td>26.84300</td>\n",
              "      <td>24.425600</td>\n",
              "      <td>22.98870</td>\n",
              "      <td>30.38620</td>\n",
              "      <td>23.82740</td>\n",
              "      <td>28.76030</td>\n",
              "      <td>21.51540</td>\n",
              "      <td>30.83840</td>\n",
              "      <td>19.26180</td>\n",
              "      <td>35.14690</td>\n",
              "      <td>33.53620</td>\n",
              "      <td>42.73760</td>\n",
              "      <td>29.27860</td>\n",
              "      <td>29.37960</td>\n",
              "      <td>28.06600</td>\n",
              "    </tr>\n",
              "    <tr>\n",
              "      <th>2</th>\n",
              "      <td>0610009O20Rik</td>\n",
              "      <td>KIAA0141</td>\n",
              "      <td>12.45760</td>\n",
              "      <td>10.17690</td>\n",
              "      <td>11.95220</td>\n",
              "      <td>10.62740</td>\n",
              "      <td>7.04763</td>\n",
              "      <td>9.63765</td>\n",
              "      <td>11.11900</td>\n",
              "      <td>13.35890</td>\n",
              "      <td>12.64880</td>\n",
              "      <td>3.92994</td>\n",
              "      <td>3.73728</td>\n",
              "      <td>3.67267</td>\n",
              "      <td>2.88402</td>\n",
              "      <td>3.984100</td>\n",
              "      <td>3.73556</td>\n",
              "      <td>19.14720</td>\n",
              "      <td>20.81610</td>\n",
              "      <td>20.57930</td>\n",
              "      <td>18.12230</td>\n",
              "      <td>18.65090</td>\n",
              "      <td>18.58170</td>\n",
              "      <td>15.60410</td>\n",
              "      <td>15.34920</td>\n",
              "      <td>13.04400</td>\n",
              "      <td>16.76130</td>\n",
              "      <td>15.91300</td>\n",
              "      <td>18.05510</td>\n",
              "    </tr>\n",
              "    <tr>\n",
              "      <th>3</th>\n",
              "      <td>0610010F05Rik</td>\n",
              "      <td>KIAA1841</td>\n",
              "      <td>5.84091</td>\n",
              "      <td>6.54488</td>\n",
              "      <td>6.65366</td>\n",
              "      <td>4.80074</td>\n",
              "      <td>6.06263</td>\n",
              "      <td>5.57042</td>\n",
              "      <td>5.21223</td>\n",
              "      <td>5.56449</td>\n",
              "      <td>3.92858</td>\n",
              "      <td>1.55508</td>\n",
              "      <td>1.68015</td>\n",
              "      <td>1.24278</td>\n",
              "      <td>1.04599</td>\n",
              "      <td>0.645151</td>\n",
              "      <td>1.10172</td>\n",
              "      <td>7.35119</td>\n",
              "      <td>7.22458</td>\n",
              "      <td>8.04684</td>\n",
              "      <td>5.92199</td>\n",
              "      <td>6.23551</td>\n",
              "      <td>4.73364</td>\n",
              "      <td>5.98708</td>\n",
              "      <td>4.26902</td>\n",
              "      <td>4.16373</td>\n",
              "      <td>3.47511</td>\n",
              "      <td>3.71875</td>\n",
              "      <td>3.95344</td>\n",
              "    </tr>\n",
              "    <tr>\n",
              "      <th>4</th>\n",
              "      <td>0610010K14Rik</td>\n",
              "      <td>C17orf49</td>\n",
              "      <td>25.63690</td>\n",
              "      <td>24.08560</td>\n",
              "      <td>20.17560</td>\n",
              "      <td>25.34280</td>\n",
              "      <td>29.14040</td>\n",
              "      <td>31.46110</td>\n",
              "      <td>28.30990</td>\n",
              "      <td>22.17650</td>\n",
              "      <td>28.72230</td>\n",
              "      <td>22.07670</td>\n",
              "      <td>19.04110</td>\n",
              "      <td>18.22980</td>\n",
              "      <td>6.44549</td>\n",
              "      <td>11.168800</td>\n",
              "      <td>8.59568</td>\n",
              "      <td>20.08390</td>\n",
              "      <td>22.05910</td>\n",
              "      <td>18.00200</td>\n",
              "      <td>24.00260</td>\n",
              "      <td>21.85860</td>\n",
              "      <td>23.72630</td>\n",
              "      <td>28.46520</td>\n",
              "      <td>31.19330</td>\n",
              "      <td>26.40880</td>\n",
              "      <td>32.53430</td>\n",
              "      <td>26.93620</td>\n",
              "      <td>29.38080</td>\n",
              "    </tr>\n",
              "  </tbody>\n",
              "</table>\n",
              "</div>"
            ],
            "text/plain": [
              "  mice_gene_symbol human_gene_symbol      Tum1  ...      WT11      WT12      WT13\n",
              "0    0610007P14Rik           C14orf1   9.31368  ...  14.69160  14.03290  14.20440\n",
              "1    0610009D07Rik            SF3B14  25.35280  ...  29.27860  29.37960  28.06600\n",
              "2    0610009O20Rik          KIAA0141  12.45760  ...  16.76130  15.91300  18.05510\n",
              "3    0610010F05Rik          KIAA1841   5.84091  ...   3.47511   3.71875   3.95344\n",
              "4    0610010K14Rik          C17orf49  25.63690  ...  32.53430  26.93620  29.38080\n",
              "\n",
              "[5 rows x 29 columns]"
            ]
          },
          "metadata": {
            "tags": []
          },
          "execution_count": 60
        }
      ]
    },
    {
      "cell_type": "code",
      "metadata": {
        "id": "cKa5Pe2k93p0",
        "colab_type": "code",
        "colab": {
          "base_uri": "https://localhost:8080/",
          "height": 102
        },
        "outputId": "2051a22b-74fe-47e5-9955-452103cd2afd"
      },
      "source": [
        "# 列名だけを表示\n",
        "df_fpkm.columns"
      ],
      "execution_count": 61,
      "outputs": [
        {
          "output_type": "execute_result",
          "data": {
            "text/plain": [
              "Index(['mice_gene_symbol', 'human_gene_symbol', 'Tum1', 'Tum2', 'Tum3', 'WT1',\n",
              "       'WT2', 'Tum4', 'Tum5', 'WT3', 'WT4', 'Tum6', 'Tum7', 'Tum8', 'WT5',\n",
              "       'WT6', 'WT7', 'Tum9', 'Tum10', 'Tum11', 'WT8', 'WT9', 'WT10', 'Tum12',\n",
              "       'Tum13', 'Tum14', 'WT11', 'WT12', 'WT13'],\n",
              "      dtype='object')"
            ]
          },
          "metadata": {
            "tags": []
          },
          "execution_count": 61
        }
      ]
    },
    {
      "cell_type": "code",
      "metadata": {
        "id": "Kw3o-xWu--Gn",
        "colab_type": "code",
        "colab": {
          "base_uri": "https://localhost:8080/",
          "height": 34
        },
        "outputId": "667ed41e-d76c-469f-ecc5-d87b8c0936ee"
      },
      "source": [
        "# リガンドだけを可視化\n",
        "## うまくいっているなら、Tum1, Tum2, Tum3 (腫瘍組織内マクロファージ)で多く、WT1, WT2 (野生型) で少ない\n",
        "# Tum1, Tum2, Tum3 が腫瘍組織内マクロファージ、\n",
        "# WT1, WT2が野生型組織でのマクロファージ、\n",
        "# Tum9, Tum10, Tum11が腫瘍細胞です。\n",
        "\n",
        "# まず、使いたい列だけにする\n",
        "df_fpkm = df_fpkm[['human_gene_symbol', 'Tum1', 'Tum2', 'Tum3', 'WT1', 'WT2', 'Tum9', 'Tum10', 'Tum11']]\n",
        "\n",
        "# リガンド-受容体ペアのリガンド（From）側のリストに含まれる遺伝子だけを抽出する\n",
        "df_fpkm_in_dflr_pair = df_fpkm[df_fpkm['human_gene_symbol'].isin(dflr_pair['From'])] #.drop('human_gene_symbol')\n",
        "\n",
        "df_fpkm_in_dflr_pair.shape\n",
        "\n",
        "# ()\n",
        "\n",
        "\n",
        "#  %>% \n",
        "#         select(human_gene_symbol, Tum1, Tum2, Tum3, WT1, WT2, Tum9, Tum10, Tum11) %>%\n",
        "#         filter(human_gene_symbol %in% dflr_pair$From) %>% \n",
        "#         select(-human_gene_symbol) %>% \n",
        "#         as.matrix()"
      ],
      "execution_count": 64,
      "outputs": [
        {
          "output_type": "execute_result",
          "data": {
            "text/plain": [
              "(46, 9)"
            ]
          },
          "metadata": {
            "tags": []
          },
          "execution_count": 64
        }
      ]
    },
    {
      "cell_type": "code",
      "metadata": {
        "id": "Ds4zes8iD4we",
        "colab_type": "code",
        "colab": {
          "base_uri": "https://localhost:8080/",
          "height": 1000
        },
        "outputId": "832d1aa9-7e6b-482d-d031-dd8910bc4e87"
      },
      "source": [
        "df_fpkm_in_dflr_pair"
      ],
      "execution_count": 65,
      "outputs": [
        {
          "output_type": "execute_result",
          "data": {
            "text/html": [
              "<div>\n",
              "<style scoped>\n",
              "    .dataframe tbody tr th:only-of-type {\n",
              "        vertical-align: middle;\n",
              "    }\n",
              "\n",
              "    .dataframe tbody tr th {\n",
              "        vertical-align: top;\n",
              "    }\n",
              "\n",
              "    .dataframe thead th {\n",
              "        text-align: right;\n",
              "    }\n",
              "</style>\n",
              "<table border=\"1\" class=\"dataframe\">\n",
              "  <thead>\n",
              "    <tr style=\"text-align: right;\">\n",
              "      <th></th>\n",
              "      <th>human_gene_symbol</th>\n",
              "      <th>Tum1</th>\n",
              "      <th>Tum2</th>\n",
              "      <th>Tum3</th>\n",
              "      <th>WT1</th>\n",
              "      <th>WT2</th>\n",
              "      <th>Tum9</th>\n",
              "      <th>Tum10</th>\n",
              "      <th>Tum11</th>\n",
              "    </tr>\n",
              "  </thead>\n",
              "  <tbody>\n",
              "    <tr>\n",
              "      <th>756</th>\n",
              "      <td>AGRN</td>\n",
              "      <td>7.86144</td>\n",
              "      <td>7.60987</td>\n",
              "      <td>7.336200</td>\n",
              "      <td>4.428100</td>\n",
              "      <td>4.831250</td>\n",
              "      <td>69.787900</td>\n",
              "      <td>51.225200</td>\n",
              "      <td>86.856600</td>\n",
              "    </tr>\n",
              "    <tr>\n",
              "      <th>1540</th>\n",
              "      <td>B2M</td>\n",
              "      <td>3381.71000</td>\n",
              "      <td>3437.53000</td>\n",
              "      <td>3595.250000</td>\n",
              "      <td>1672.570000</td>\n",
              "      <td>1581.330000</td>\n",
              "      <td>1101.320000</td>\n",
              "      <td>986.941000</td>\n",
              "      <td>795.027000</td>\n",
              "    </tr>\n",
              "    <tr>\n",
              "      <th>1938</th>\n",
              "      <td>C3</td>\n",
              "      <td>57.18700</td>\n",
              "      <td>59.28500</td>\n",
              "      <td>71.760000</td>\n",
              "      <td>30.972400</td>\n",
              "      <td>33.367700</td>\n",
              "      <td>175.225000</td>\n",
              "      <td>138.898000</td>\n",
              "      <td>106.499000</td>\n",
              "    </tr>\n",
              "    <tr>\n",
              "      <th>2307</th>\n",
              "      <td>CCL3L1</td>\n",
              "      <td>1759.97000</td>\n",
              "      <td>1626.45000</td>\n",
              "      <td>1872.790000</td>\n",
              "      <td>292.902000</td>\n",
              "      <td>334.484000</td>\n",
              "      <td>29.506500</td>\n",
              "      <td>10.864900</td>\n",
              "      <td>15.388300</td>\n",
              "    </tr>\n",
              "    <tr>\n",
              "      <th>2308</th>\n",
              "      <td>CCL4</td>\n",
              "      <td>3183.21000</td>\n",
              "      <td>2931.27000</td>\n",
              "      <td>2754.130000</td>\n",
              "      <td>32.468500</td>\n",
              "      <td>49.521000</td>\n",
              "      <td>13.130100</td>\n",
              "      <td>5.325970</td>\n",
              "      <td>12.552400</td>\n",
              "    </tr>\n",
              "    <tr>\n",
              "      <th>2309</th>\n",
              "      <td>CCL5</td>\n",
              "      <td>248.29900</td>\n",
              "      <td>372.56900</td>\n",
              "      <td>96.546200</td>\n",
              "      <td>46.362900</td>\n",
              "      <td>48.382900</td>\n",
              "      <td>8.567190</td>\n",
              "      <td>8.564570</td>\n",
              "      <td>11.258300</td>\n",
              "    </tr>\n",
              "    <tr>\n",
              "      <th>2310</th>\n",
              "      <td>CCL7</td>\n",
              "      <td>48.16060</td>\n",
              "      <td>64.99380</td>\n",
              "      <td>40.693400</td>\n",
              "      <td>10.268300</td>\n",
              "      <td>12.880100</td>\n",
              "      <td>3.713020</td>\n",
              "      <td>1.207770</td>\n",
              "      <td>1.461600</td>\n",
              "    </tr>\n",
              "    <tr>\n",
              "      <th>2813</th>\n",
              "      <td>CLCF1</td>\n",
              "      <td>19.86180</td>\n",
              "      <td>19.00420</td>\n",
              "      <td>12.635400</td>\n",
              "      <td>11.383200</td>\n",
              "      <td>10.191400</td>\n",
              "      <td>47.701600</td>\n",
              "      <td>27.372400</td>\n",
              "      <td>72.665600</td>\n",
              "    </tr>\n",
              "    <tr>\n",
              "      <th>3019</th>\n",
              "      <td>COL27A1</td>\n",
              "      <td>3.09746</td>\n",
              "      <td>5.13679</td>\n",
              "      <td>1.093920</td>\n",
              "      <td>2.472400</td>\n",
              "      <td>1.382990</td>\n",
              "      <td>9.511810</td>\n",
              "      <td>4.569590</td>\n",
              "      <td>12.394900</td>\n",
              "    </tr>\n",
              "    <tr>\n",
              "      <th>3022</th>\n",
              "      <td>COL3A1</td>\n",
              "      <td>4.47561</td>\n",
              "      <td>2.38678</td>\n",
              "      <td>1.371550</td>\n",
              "      <td>0.841520</td>\n",
              "      <td>2.281760</td>\n",
              "      <td>33.732500</td>\n",
              "      <td>16.205900</td>\n",
              "      <td>13.309100</td>\n",
              "    </tr>\n",
              "    <tr>\n",
              "      <th>3188</th>\n",
              "      <td>CREG1</td>\n",
              "      <td>262.52900</td>\n",
              "      <td>250.63600</td>\n",
              "      <td>362.363000</td>\n",
              "      <td>108.631000</td>\n",
              "      <td>110.764000</td>\n",
              "      <td>57.751200</td>\n",
              "      <td>68.259800</td>\n",
              "      <td>50.138500</td>\n",
              "    </tr>\n",
              "    <tr>\n",
              "      <th>3251</th>\n",
              "      <td>CSF1</td>\n",
              "      <td>22.28150</td>\n",
              "      <td>23.36560</td>\n",
              "      <td>32.329700</td>\n",
              "      <td>1.407370</td>\n",
              "      <td>2.115290</td>\n",
              "      <td>12.092900</td>\n",
              "      <td>9.616620</td>\n",
              "      <td>10.125400</td>\n",
              "    </tr>\n",
              "    <tr>\n",
              "      <th>3384</th>\n",
              "      <td>CXCL13</td>\n",
              "      <td>3.95766</td>\n",
              "      <td>2.90909</td>\n",
              "      <td>0.509640</td>\n",
              "      <td>0.000000</td>\n",
              "      <td>0.000000</td>\n",
              "      <td>0.185298</td>\n",
              "      <td>0.543155</td>\n",
              "      <td>0.295534</td>\n",
              "    </tr>\n",
              "    <tr>\n",
              "      <th>3386</th>\n",
              "      <td>CXCL16</td>\n",
              "      <td>378.09500</td>\n",
              "      <td>363.98500</td>\n",
              "      <td>238.101000</td>\n",
              "      <td>28.636300</td>\n",
              "      <td>29.816900</td>\n",
              "      <td>62.441500</td>\n",
              "      <td>42.456100</td>\n",
              "      <td>58.375800</td>\n",
              "    </tr>\n",
              "    <tr>\n",
              "      <th>5079</th>\n",
              "      <td>FN1</td>\n",
              "      <td>341.45400</td>\n",
              "      <td>425.16100</td>\n",
              "      <td>460.376000</td>\n",
              "      <td>126.852000</td>\n",
              "      <td>178.600000</td>\n",
              "      <td>250.214000</td>\n",
              "      <td>91.202100</td>\n",
              "      <td>280.746000</td>\n",
              "    </tr>\n",
              "    <tr>\n",
              "      <th>5337</th>\n",
              "      <td>GAS6</td>\n",
              "      <td>23.71280</td>\n",
              "      <td>19.08770</td>\n",
              "      <td>32.588200</td>\n",
              "      <td>3.689890</td>\n",
              "      <td>2.313040</td>\n",
              "      <td>80.144500</td>\n",
              "      <td>183.442000</td>\n",
              "      <td>43.397000</td>\n",
              "    </tr>\n",
              "    <tr>\n",
              "      <th>6108</th>\n",
              "      <td>HBEGF</td>\n",
              "      <td>9.66407</td>\n",
              "      <td>9.63346</td>\n",
              "      <td>7.491530</td>\n",
              "      <td>0.655336</td>\n",
              "      <td>2.532540</td>\n",
              "      <td>76.110900</td>\n",
              "      <td>32.730300</td>\n",
              "      <td>89.379100</td>\n",
              "    </tr>\n",
              "    <tr>\n",
              "      <th>6200</th>\n",
              "      <td>HGF</td>\n",
              "      <td>15.41030</td>\n",
              "      <td>14.30190</td>\n",
              "      <td>19.502400</td>\n",
              "      <td>3.102880</td>\n",
              "      <td>3.971620</td>\n",
              "      <td>1.231300</td>\n",
              "      <td>0.439508</td>\n",
              "      <td>0.726597</td>\n",
              "    </tr>\n",
              "    <tr>\n",
              "      <th>6561</th>\n",
              "      <td>IFNB1</td>\n",
              "      <td>269.50700</td>\n",
              "      <td>259.02900</td>\n",
              "      <td>273.724000</td>\n",
              "      <td>0.000000</td>\n",
              "      <td>0.000000</td>\n",
              "      <td>0.278807</td>\n",
              "      <td>0.000000</td>\n",
              "      <td>0.142931</td>\n",
              "    </tr>\n",
              "    <tr>\n",
              "      <th>6583</th>\n",
              "      <td>IGF1</td>\n",
              "      <td>53.70540</td>\n",
              "      <td>54.85940</td>\n",
              "      <td>69.734900</td>\n",
              "      <td>4.253740</td>\n",
              "      <td>5.727940</td>\n",
              "      <td>3.199160</td>\n",
              "      <td>0.605481</td>\n",
              "      <td>1.726160</td>\n",
              "    </tr>\n",
              "    <tr>\n",
              "      <th>6594</th>\n",
              "      <td>IGFBP4</td>\n",
              "      <td>13.81870</td>\n",
              "      <td>9.40500</td>\n",
              "      <td>8.606140</td>\n",
              "      <td>6.243190</td>\n",
              "      <td>6.647730</td>\n",
              "      <td>209.938000</td>\n",
              "      <td>114.848000</td>\n",
              "      <td>221.147000</td>\n",
              "    </tr>\n",
              "    <tr>\n",
              "      <th>6627</th>\n",
              "      <td>IL10</td>\n",
              "      <td>15.76400</td>\n",
              "      <td>9.13857</td>\n",
              "      <td>7.114660</td>\n",
              "      <td>0.397646</td>\n",
              "      <td>0.713199</td>\n",
              "      <td>0.536939</td>\n",
              "      <td>0.764469</td>\n",
              "      <td>0.605578</td>\n",
              "    </tr>\n",
              "    <tr>\n",
              "      <th>6656</th>\n",
              "      <td>IL1A</td>\n",
              "      <td>610.36200</td>\n",
              "      <td>578.75900</td>\n",
              "      <td>611.866000</td>\n",
              "      <td>125.296000</td>\n",
              "      <td>95.207800</td>\n",
              "      <td>19.294300</td>\n",
              "      <td>2.715660</td>\n",
              "      <td>13.492500</td>\n",
              "    </tr>\n",
              "    <tr>\n",
              "      <th>6657</th>\n",
              "      <td>IL1B</td>\n",
              "      <td>1568.88000</td>\n",
              "      <td>1244.05000</td>\n",
              "      <td>1165.770000</td>\n",
              "      <td>40.609000</td>\n",
              "      <td>45.254000</td>\n",
              "      <td>21.730600</td>\n",
              "      <td>2.961640</td>\n",
              "      <td>18.425200</td>\n",
              "    </tr>\n",
              "    <tr>\n",
              "      <th>6670</th>\n",
              "      <td>IL1RN</td>\n",
              "      <td>295.25700</td>\n",
              "      <td>296.09900</td>\n",
              "      <td>301.742000</td>\n",
              "      <td>87.927300</td>\n",
              "      <td>93.774400</td>\n",
              "      <td>27.367900</td>\n",
              "      <td>8.565800</td>\n",
              "      <td>29.941100</td>\n",
              "    </tr>\n",
              "    <tr>\n",
              "      <th>6696</th>\n",
              "      <td>IL6</td>\n",
              "      <td>93.51580</td>\n",
              "      <td>88.29500</td>\n",
              "      <td>73.538100</td>\n",
              "      <td>5.913090</td>\n",
              "      <td>5.384400</td>\n",
              "      <td>3.546840</td>\n",
              "      <td>1.065060</td>\n",
              "      <td>1.196770</td>\n",
              "    </tr>\n",
              "    <tr>\n",
              "      <th>6735</th>\n",
              "      <td>INHBA</td>\n",
              "      <td>7.83241</td>\n",
              "      <td>13.14620</td>\n",
              "      <td>8.941320</td>\n",
              "      <td>0.535015</td>\n",
              "      <td>0.764664</td>\n",
              "      <td>14.284300</td>\n",
              "      <td>6.208100</td>\n",
              "      <td>9.563960</td>\n",
              "    </tr>\n",
              "    <tr>\n",
              "      <th>7391</th>\n",
              "      <td>LAMC1</td>\n",
              "      <td>4.28535</td>\n",
              "      <td>4.68714</td>\n",
              "      <td>7.277860</td>\n",
              "      <td>2.088220</td>\n",
              "      <td>1.807620</td>\n",
              "      <td>34.083700</td>\n",
              "      <td>24.728700</td>\n",
              "      <td>34.984300</td>\n",
              "    </tr>\n",
              "    <tr>\n",
              "      <th>7494</th>\n",
              "      <td>LGALS3</td>\n",
              "      <td>1593.26000</td>\n",
              "      <td>1643.48000</td>\n",
              "      <td>1650.030000</td>\n",
              "      <td>991.273000</td>\n",
              "      <td>1133.080000</td>\n",
              "      <td>283.337000</td>\n",
              "      <td>154.890000</td>\n",
              "      <td>283.839000</td>\n",
              "    </tr>\n",
              "    <tr>\n",
              "      <th>7771</th>\n",
              "      <td>LTB</td>\n",
              "      <td>12.55660</td>\n",
              "      <td>12.47630</td>\n",
              "      <td>6.040520</td>\n",
              "      <td>2.632710</td>\n",
              "      <td>3.783690</td>\n",
              "      <td>6.793560</td>\n",
              "      <td>7.582560</td>\n",
              "      <td>11.417600</td>\n",
              "    </tr>\n",
              "    <tr>\n",
              "      <th>8244</th>\n",
              "      <td>MIF</td>\n",
              "      <td>95.29510</td>\n",
              "      <td>90.50370</td>\n",
              "      <td>89.625000</td>\n",
              "      <td>34.770000</td>\n",
              "      <td>44.500500</td>\n",
              "      <td>82.351100</td>\n",
              "      <td>64.649800</td>\n",
              "      <td>89.231600</td>\n",
              "    </tr>\n",
              "    <tr>\n",
              "      <th>9775</th>\n",
              "      <td>OSM</td>\n",
              "      <td>279.75400</td>\n",
              "      <td>276.82700</td>\n",
              "      <td>446.742000</td>\n",
              "      <td>111.186000</td>\n",
              "      <td>161.968000</td>\n",
              "      <td>17.105500</td>\n",
              "      <td>1.862260</td>\n",
              "      <td>7.100810</td>\n",
              "    </tr>\n",
              "    <tr>\n",
              "      <th>10119</th>\n",
              "      <td>PDGFA</td>\n",
              "      <td>23.40370</td>\n",
              "      <td>23.69150</td>\n",
              "      <td>18.876400</td>\n",
              "      <td>0.031664</td>\n",
              "      <td>0.905222</td>\n",
              "      <td>28.192100</td>\n",
              "      <td>33.692000</td>\n",
              "      <td>25.101300</td>\n",
              "    </tr>\n",
              "    <tr>\n",
              "      <th>10120</th>\n",
              "      <td>PDGFB</td>\n",
              "      <td>12.52120</td>\n",
              "      <td>13.72930</td>\n",
              "      <td>11.195800</td>\n",
              "      <td>3.826780</td>\n",
              "      <td>3.347930</td>\n",
              "      <td>29.854900</td>\n",
              "      <td>16.471200</td>\n",
              "      <td>25.192400</td>\n",
              "    </tr>\n",
              "    <tr>\n",
              "      <th>10211</th>\n",
              "      <td>PF4</td>\n",
              "      <td>76.81760</td>\n",
              "      <td>76.46620</td>\n",
              "      <td>67.249600</td>\n",
              "      <td>1.611380</td>\n",
              "      <td>4.030320</td>\n",
              "      <td>4.315410</td>\n",
              "      <td>3.420550</td>\n",
              "      <td>1.053480</td>\n",
              "    </tr>\n",
              "    <tr>\n",
              "      <th>10235</th>\n",
              "      <td>PGF</td>\n",
              "      <td>11.20110</td>\n",
              "      <td>15.17290</td>\n",
              "      <td>7.721420</td>\n",
              "      <td>0.434325</td>\n",
              "      <td>1.853270</td>\n",
              "      <td>1.054790</td>\n",
              "      <td>1.815190</td>\n",
              "      <td>1.051850</td>\n",
              "    </tr>\n",
              "    <tr>\n",
              "      <th>10520</th>\n",
              "      <td>PLEKHO2</td>\n",
              "      <td>87.60520</td>\n",
              "      <td>87.54990</td>\n",
              "      <td>123.697000</td>\n",
              "      <td>47.670100</td>\n",
              "      <td>41.282500</td>\n",
              "      <td>11.210200</td>\n",
              "      <td>5.039970</td>\n",
              "      <td>11.744800</td>\n",
              "    </tr>\n",
              "    <tr>\n",
              "      <th>13277</th>\n",
              "      <td>SPP1</td>\n",
              "      <td>4700.06000</td>\n",
              "      <td>4925.44000</td>\n",
              "      <td>10806.300000</td>\n",
              "      <td>272.487000</td>\n",
              "      <td>394.757000</td>\n",
              "      <td>2823.780000</td>\n",
              "      <td>948.897000</td>\n",
              "      <td>3485.770000</td>\n",
              "    </tr>\n",
              "    <tr>\n",
              "      <th>13959</th>\n",
              "      <td>TGFBI</td>\n",
              "      <td>389.86500</td>\n",
              "      <td>411.95500</td>\n",
              "      <td>473.595000</td>\n",
              "      <td>258.391000</td>\n",
              "      <td>306.237000</td>\n",
              "      <td>64.536000</td>\n",
              "      <td>25.166900</td>\n",
              "      <td>23.580800</td>\n",
              "    </tr>\n",
              "    <tr>\n",
              "      <th>13984</th>\n",
              "      <td>THBS1</td>\n",
              "      <td>211.35300</td>\n",
              "      <td>150.45600</td>\n",
              "      <td>268.984000</td>\n",
              "      <td>1.686060</td>\n",
              "      <td>2.259540</td>\n",
              "      <td>35.080400</td>\n",
              "      <td>28.651300</td>\n",
              "      <td>20.495500</td>\n",
              "    </tr>\n",
              "    <tr>\n",
              "      <th>14386</th>\n",
              "      <td>TNF</td>\n",
              "      <td>1460.84000</td>\n",
              "      <td>1419.91000</td>\n",
              "      <td>1455.780000</td>\n",
              "      <td>255.870000</td>\n",
              "      <td>256.255000</td>\n",
              "      <td>37.229400</td>\n",
              "      <td>11.810400</td>\n",
              "      <td>37.785100</td>\n",
              "    </tr>\n",
              "    <tr>\n",
              "      <th>14413</th>\n",
              "      <td>TNFSF12</td>\n",
              "      <td>50.26530</td>\n",
              "      <td>47.06550</td>\n",
              "      <td>54.509400</td>\n",
              "      <td>23.410200</td>\n",
              "      <td>25.685600</td>\n",
              "      <td>13.040700</td>\n",
              "      <td>11.856300</td>\n",
              "      <td>13.045900</td>\n",
              "    </tr>\n",
              "    <tr>\n",
              "      <th>14416</th>\n",
              "      <td>TNFSF14</td>\n",
              "      <td>3.95031</td>\n",
              "      <td>4.54313</td>\n",
              "      <td>4.519810</td>\n",
              "      <td>0.483687</td>\n",
              "      <td>0.773072</td>\n",
              "      <td>0.382041</td>\n",
              "      <td>0.449944</td>\n",
              "      <td>0.269299</td>\n",
              "    </tr>\n",
              "    <tr>\n",
              "      <th>14419</th>\n",
              "      <td>TNFSF4</td>\n",
              "      <td>2.07912</td>\n",
              "      <td>3.76411</td>\n",
              "      <td>0.633648</td>\n",
              "      <td>0.146768</td>\n",
              "      <td>0.000000</td>\n",
              "      <td>0.014038</td>\n",
              "      <td>0.052905</td>\n",
              "      <td>0.028786</td>\n",
              "    </tr>\n",
              "    <tr>\n",
              "      <th>15215</th>\n",
              "      <td>VEGFA</td>\n",
              "      <td>175.48500</td>\n",
              "      <td>173.13700</td>\n",
              "      <td>155.186000</td>\n",
              "      <td>8.240780</td>\n",
              "      <td>7.748700</td>\n",
              "      <td>164.381000</td>\n",
              "      <td>127.134000</td>\n",
              "      <td>148.556000</td>\n",
              "    </tr>\n",
              "    <tr>\n",
              "      <th>15435</th>\n",
              "      <td>WNT11</td>\n",
              "      <td>5.93739</td>\n",
              "      <td>7.42604</td>\n",
              "      <td>0.858414</td>\n",
              "      <td>0.464972</td>\n",
              "      <td>0.633631</td>\n",
              "      <td>2.871080</td>\n",
              "      <td>6.748950</td>\n",
              "      <td>2.553900</td>\n",
              "    </tr>\n",
              "  </tbody>\n",
              "</table>\n",
              "</div>"
            ],
            "text/plain": [
              "      human_gene_symbol        Tum1  ...       Tum10        Tum11\n",
              "756                AGRN     7.86144  ...   51.225200    86.856600\n",
              "1540                B2M  3381.71000  ...  986.941000   795.027000\n",
              "1938                 C3    57.18700  ...  138.898000   106.499000\n",
              "2307             CCL3L1  1759.97000  ...   10.864900    15.388300\n",
              "2308               CCL4  3183.21000  ...    5.325970    12.552400\n",
              "2309               CCL5   248.29900  ...    8.564570    11.258300\n",
              "2310               CCL7    48.16060  ...    1.207770     1.461600\n",
              "2813              CLCF1    19.86180  ...   27.372400    72.665600\n",
              "3019            COL27A1     3.09746  ...    4.569590    12.394900\n",
              "3022             COL3A1     4.47561  ...   16.205900    13.309100\n",
              "3188              CREG1   262.52900  ...   68.259800    50.138500\n",
              "3251               CSF1    22.28150  ...    9.616620    10.125400\n",
              "3384             CXCL13     3.95766  ...    0.543155     0.295534\n",
              "3386             CXCL16   378.09500  ...   42.456100    58.375800\n",
              "5079                FN1   341.45400  ...   91.202100   280.746000\n",
              "5337               GAS6    23.71280  ...  183.442000    43.397000\n",
              "6108              HBEGF     9.66407  ...   32.730300    89.379100\n",
              "6200                HGF    15.41030  ...    0.439508     0.726597\n",
              "6561              IFNB1   269.50700  ...    0.000000     0.142931\n",
              "6583               IGF1    53.70540  ...    0.605481     1.726160\n",
              "6594             IGFBP4    13.81870  ...  114.848000   221.147000\n",
              "6627               IL10    15.76400  ...    0.764469     0.605578\n",
              "6656               IL1A   610.36200  ...    2.715660    13.492500\n",
              "6657               IL1B  1568.88000  ...    2.961640    18.425200\n",
              "6670              IL1RN   295.25700  ...    8.565800    29.941100\n",
              "6696                IL6    93.51580  ...    1.065060     1.196770\n",
              "6735              INHBA     7.83241  ...    6.208100     9.563960\n",
              "7391              LAMC1     4.28535  ...   24.728700    34.984300\n",
              "7494             LGALS3  1593.26000  ...  154.890000   283.839000\n",
              "7771                LTB    12.55660  ...    7.582560    11.417600\n",
              "8244                MIF    95.29510  ...   64.649800    89.231600\n",
              "9775                OSM   279.75400  ...    1.862260     7.100810\n",
              "10119             PDGFA    23.40370  ...   33.692000    25.101300\n",
              "10120             PDGFB    12.52120  ...   16.471200    25.192400\n",
              "10211               PF4    76.81760  ...    3.420550     1.053480\n",
              "10235               PGF    11.20110  ...    1.815190     1.051850\n",
              "10520           PLEKHO2    87.60520  ...    5.039970    11.744800\n",
              "13277              SPP1  4700.06000  ...  948.897000  3485.770000\n",
              "13959             TGFBI   389.86500  ...   25.166900    23.580800\n",
              "13984             THBS1   211.35300  ...   28.651300    20.495500\n",
              "14386               TNF  1460.84000  ...   11.810400    37.785100\n",
              "14413           TNFSF12    50.26530  ...   11.856300    13.045900\n",
              "14416           TNFSF14     3.95031  ...    0.449944     0.269299\n",
              "14419            TNFSF4     2.07912  ...    0.052905     0.028786\n",
              "15215             VEGFA   175.48500  ...  127.134000   148.556000\n",
              "15435             WNT11     5.93739  ...    6.748950     2.553900\n",
              "\n",
              "[46 rows x 9 columns]"
            ]
          },
          "metadata": {
            "tags": []
          },
          "execution_count": 65
        }
      ]
    },
    {
      "cell_type": "code",
      "metadata": {
        "id": "7wmjfI0e-95Y",
        "colab_type": "code",
        "colab": {
          "base_uri": "https://localhost:8080/",
          "height": 34
        },
        "outputId": "926886ef-9eed-4c0a-f1af-92d3500cb80e"
      },
      "source": [
        "colnm = df_fpkm_in_dflr_pair.drop(columns='human_gene_symbol').columns\n",
        "\n",
        "# 可視化用に 'human_gene_symbol' と言う列を除き、 numpy 形式にする\n",
        "x = df_fpkm_in_dflr_pair.drop(columns='human_gene_symbol').to_numpy(dtype=colnm)\n",
        "\n",
        "x.shape"
      ],
      "execution_count": 69,
      "outputs": [
        {
          "output_type": "execute_result",
          "data": {
            "text/plain": [
              "(46, 8)"
            ]
          },
          "metadata": {
            "tags": []
          },
          "execution_count": 69
        }
      ]
    },
    {
      "cell_type": "code",
      "metadata": {
        "id": "tTPYRsaSIOC4",
        "colab_type": "code",
        "colab": {
          "base_uri": "https://localhost:8080/",
          "height": 1000
        },
        "outputId": "902a1d70-4480-4d93-ad25-1ef03f2ecfc6"
      },
      "source": [
        "x"
      ],
      "execution_count": 68,
      "outputs": [
        {
          "output_type": "execute_result",
          "data": {
            "text/plain": [
              "array([[7.861439999999999, 7.60987, 7.3362, 4.4281, 4.83125, 69.7879,\n",
              "        51.2252, 86.8566],\n",
              "       [3381.71, 3437.53, 3595.25, 1672.57, 1581.33, 1101.32, 986.941,\n",
              "        795.0269999999999],\n",
              "       [57.187, 59.285, 71.76, 30.9724, 33.3677, 175.225, 138.898,\n",
              "        106.499],\n",
              "       [1759.97, 1626.45, 1872.79, 292.902, 334.48400000000004, 29.5065,\n",
              "        10.8649, 15.3883],\n",
              "       [3183.21, 2931.27, 2754.13, 32.4685, 49.521, 13.1301, 5.32597,\n",
              "        12.5524],\n",
              "       [248.299, 372.569, 96.5462, 46.3629, 48.3829, 8.56719, 8.56457,\n",
              "        11.2583],\n",
              "       [48.1606, 64.9938, 40.6934, 10.2683, 12.8801, 3.7130199999999998,\n",
              "        1.20777, 1.4616],\n",
              "       [19.8618, 19.0042, 12.6354, 11.3832, 10.1914, 47.7016, 27.3724,\n",
              "        72.6656],\n",
              "       [3.09746, 5.13679, 1.09392, 2.4724, 1.38299, 9.51181, 4.56959,\n",
              "        12.3949],\n",
              "       [4.47561, 2.38678, 1.37155, 0.84152, 2.28176, 33.7325, 16.2059,\n",
              "        13.3091],\n",
              "       [262.529, 250.636, 362.36300000000006, 108.631, 110.764, 57.7512,\n",
              "        68.2598, 50.1385],\n",
              "       [22.2815, 23.3656, 32.3297, 1.40737, 2.1152900000000003, 12.0929,\n",
              "        9.61662, 10.1254],\n",
              "       [3.9576599999999997, 2.90909, 0.50964, 0.0, 0.0, 0.185298,\n",
              "        0.543155, 0.295534],\n",
              "       [378.095, 363.985, 238.101, 28.6363, 29.8169, 62.4415, 42.4561,\n",
              "        58.3758],\n",
              "       [341.454, 425.161, 460.376, 126.852, 178.6, 250.21400000000003,\n",
              "        91.2021, 280.746],\n",
              "       [23.7128, 19.0877, 32.5882, 3.68989, 2.31304, 80.1445, 183.442,\n",
              "        43.397],\n",
              "       [9.664069999999999, 9.633460000000001, 7.49153,\n",
              "        0.6553359999999999, 2.53254, 76.1109, 32.7303, 89.3791],\n",
              "       [15.4103, 14.3019, 19.5024, 3.10288, 3.9716199999999997, 1.2313,\n",
              "        0.439508, 0.726597],\n",
              "       [269.507, 259.029, 273.724, 0.0, 0.0, 0.278807, 0.0, 0.142931],\n",
              "       [53.7054, 54.8594, 69.7349, 4.2537400000000005, 5.72794, 3.19916,\n",
              "        0.605481, 1.72616],\n",
              "       [13.8187, 9.405, 8.60614, 6.24319, 6.64773, 209.938, 114.848,\n",
              "        221.14700000000002],\n",
              "       [15.764000000000001, 9.13857, 7.114660000000001, 0.397646,\n",
              "        0.713199, 0.536939, 0.764469, 0.605578],\n",
              "       [610.362, 578.759, 611.866, 125.296, 95.2078, 19.2943,\n",
              "        2.7156599999999997, 13.4925],\n",
              "       [1568.88, 1244.05, 1165.77, 40.609, 45.254, 21.7306, 2.96164,\n",
              "        18.4252],\n",
              "       [295.257, 296.099, 301.742, 87.9273, 93.7744, 27.3679, 8.5658,\n",
              "        29.9411],\n",
              "       [93.5158, 88.295, 73.5381, 5.91309, 5.3844, 3.54684,\n",
              "        1.0650600000000001, 1.1967700000000001],\n",
              "       [7.83241, 13.1462, 8.94132, 0.535015, 0.764664, 14.2843, 6.2081,\n",
              "        9.56396],\n",
              "       [4.28535, 4.68714, 7.27786, 2.08822, 1.80762, 34.0837, 24.7287,\n",
              "        34.9843],\n",
              "       [1593.26, 1643.48, 1650.03, 991.273, 1133.08, 283.337, 154.89,\n",
              "        283.839],\n",
              "       [12.5566, 12.4763, 6.04052, 2.63271, 3.78369, 6.79356,\n",
              "        7.582560000000001, 11.4176],\n",
              "       [95.2951, 90.5037, 89.625, 34.77, 44.5005, 82.3511, 64.6498,\n",
              "        89.2316],\n",
              "       [279.754, 276.827, 446.74199999999996, 111.186, 161.968, 17.1055,\n",
              "        1.8622599999999998, 7.100810000000001],\n",
              "       [23.4037, 23.6915, 18.8764, 0.0316639, 0.905222, 28.1921, 33.692,\n",
              "        25.1013],\n",
              "       [12.5212, 13.7293, 11.1958, 3.8267800000000003,\n",
              "        3.3479300000000003, 29.8549, 16.4712, 25.1924],\n",
              "       [76.8176, 76.4662, 67.2496, 1.61138, 4.03032, 4.31541, 3.42055,\n",
              "        1.05348],\n",
              "       [11.2011, 15.1729, 7.721419999999999, 0.434325, 1.85327, 1.05479,\n",
              "        1.81519, 1.05185],\n",
              "       [87.6052, 87.5499, 123.697, 47.6701, 41.2825, 11.2102,\n",
              "        5.039969999999999, 11.7448],\n",
              "       [4700.06, 4925.44, 10806.3, 272.487, 394.75699999999995, 2823.78,\n",
              "        948.8969999999999, 3485.77],\n",
              "       [389.865, 411.955, 473.595, 258.39099999999996, 306.237, 64.536,\n",
              "        25.1669, 23.5808],\n",
              "       [211.35299999999998, 150.45600000000002, 268.98400000000004,\n",
              "        1.68606, 2.2595400000000003, 35.0804, 28.6513, 20.4955],\n",
              "       [1460.84, 1419.91, 1455.78, 255.87, 256.255, 37.2294, 11.8104,\n",
              "        37.7851],\n",
              "       [50.2653, 47.0655, 54.5094, 23.4102, 25.6856, 13.0407, 11.8563,\n",
              "        13.0459],\n",
              "       [3.95031, 4.543130000000001, 4.51981, 0.483687, 0.773072,\n",
              "        0.38204099999999996, 0.44994399999999996, 0.26929899999999996],\n",
              "       [2.07912, 3.76411, 0.633648, 0.146768, 0.0, 0.014037799999999998,\n",
              "        0.05290509999999999, 0.028786000000000003],\n",
              "       [175.485, 173.137, 155.186, 8.24078, 7.7487, 164.38099999999997,\n",
              "        127.134, 148.556],\n",
              "       [5.93739, 7.4260399999999995, 0.8584139999999999,\n",
              "        0.46497200000000005, 0.633631, 2.87108, 6.74895, 2.5539]],\n",
              "      dtype=object)"
            ]
          },
          "metadata": {
            "tags": []
          },
          "execution_count": 68
        }
      ]
    },
    {
      "cell_type": "markdown",
      "metadata": {
        "id": "9N2O3wi6Qv9V",
        "colab_type": "text"
      },
      "source": [
        "## 課題\n",
        "\n",
        "`x` をヒートマップで可視化してみよう\n",
        "\n",
        "- 行が遺伝子\n",
        "- 列がサンプル"
      ]
    },
    {
      "cell_type": "code",
      "metadata": {
        "id": "kkbQNvyRzNlC",
        "colab_type": "code",
        "colab": {}
      },
      "source": [
        "# ヒートマップをプロット\n"
      ],
      "execution_count": 75,
      "outputs": []
    },
    {
      "cell_type": "markdown",
      "metadata": {
        "id": "lB9ZSn_zzNlE",
        "colab_type": "text"
      },
      "source": [
        "----\n",
        "\n",
        "----\n",
        "\n",
        "----\n",
        "\n",
        "\n",
        "## このあとどうするか？\n",
        "\n",
        "今のままでは、候補がかなり多いため、仮説を検証する実験をするのは難しそうです。また、この予測がどのくらい正しいのかも不明です。\n",
        "\n",
        "元論文では、このリガンド-受容体ペアを足がかりに、以下のような解析をします。\n",
        "\n",
        "- 受容体の下流のシグナル伝達経路から転写因子があるか探す（パスウェイデータベースを参照する）\n",
        "- それらの下流の転写因子がターゲットとする遺伝子を探す（パスウェイデータベースや遺伝子制御関係のデータベースを参照する）\n",
        "- それらのターゲット遺伝子群にランダムに比べて発現変動遺伝子が濃縮しているかを調べる（統計検定）\n",
        "\n",
        "このような解析を加えることで、単にリガンドと受容体が共起だけでなく、さらに信頼性のあるペアを探すことができます。\n",
        "\n",
        "ちなみに、著者らはこの方法をCCCExplorerと名付けています。詳しくは元の論文をご覧ください:\n",
        "\n",
        "- Toi _et al_., Transcriptome Analysis of Individual Stromal Cell Populations Identifies Stroma-Tumor Crosstalk in Mouse Lung Cancer Model, Cell Reports (2015) http://dx.doi.org/10.1016/j.celrep.2015.01.040 \n"
      ]
    },
    {
      "cell_type": "markdown",
      "metadata": {
        "id": "Hk5mxVjJzNlF",
        "colab_type": "text"
      },
      "source": [
        "## 小まとめ\n",
        "\n",
        "このようにIDによる統合を繰り返すだけでもいろいろな仮説を立てられます。また、NGS解析とは言いつつ、NGSデータ以外の生命科学データを合わせることで、単なる発現変動遺伝子のリストよりも深い知見が得られるうることがみえてきたかと思います。\n"
      ]
    }
  ]
}