{
  "nbformat": 4,
  "nbformat_minor": 0,
  "metadata": {
    "colab": {
      "name": "06_JOIN.ipynb",
      "provenance": [],
      "collapsed_sections": []
    },
    "kernelspec": {
      "name": "python3",
      "display_name": "Python 3"
    }
  },
  "cells": [
    {
      "cell_type": "markdown",
      "metadata": {
        "id": "fxDyMqSjzv9F",
        "colab_type": "text"
      },
      "source": [
        "pandas のライブラリをインポートします。"
      ]
    },
    {
      "cell_type": "code",
      "metadata": {
        "id": "NLvNv-OxztMa",
        "colab_type": "code",
        "colab": {}
      },
      "source": [
        "import pandas as pd"
      ],
      "execution_count": 1,
      "outputs": []
    },
    {
      "cell_type": "markdown",
      "metadata": {
        "id": "EbPFDbHi3nyU",
        "colab_type": "text"
      },
      "source": [
        "`table1.csv` を読み込んで、 `df1` とします。\n",
        "\n",
        "**（⚠️ パスは自分の環境に合わせて変えてください！）**"
      ]
    },
    {
      "cell_type": "code",
      "metadata": {
        "id": "cWzq2jT00RmZ",
        "colab_type": "code",
        "colab": {
          "base_uri": "https://localhost:8080/",
          "height": 173
        },
        "outputId": "6bb935b2-6ea2-4427-9acc-8a2dd488d9e1"
      },
      "source": [
        "df1 = pd.read_csv('/content/drive/My Drive/2020 L-1　情報科学・数理科学を用いた医学研究/06/table1.csv')\n",
        "\n",
        "df1"
      ],
      "execution_count": 10,
      "outputs": [
        {
          "output_type": "execute_result",
          "data": {
            "text/html": [
              "<div>\n",
              "<style scoped>\n",
              "    .dataframe tbody tr th:only-of-type {\n",
              "        vertical-align: middle;\n",
              "    }\n",
              "\n",
              "    .dataframe tbody tr th {\n",
              "        vertical-align: top;\n",
              "    }\n",
              "\n",
              "    .dataframe thead th {\n",
              "        text-align: right;\n",
              "    }\n",
              "</style>\n",
              "<table border=\"1\" class=\"dataframe\">\n",
              "  <thead>\n",
              "    <tr style=\"text-align: right;\">\n",
              "      <th></th>\n",
              "      <th>Gene_ID</th>\n",
              "      <th>Case</th>\n",
              "      <th>Control</th>\n",
              "    </tr>\n",
              "  </thead>\n",
              "  <tbody>\n",
              "    <tr>\n",
              "      <th>0</th>\n",
              "      <td>104</td>\n",
              "      <td>10</td>\n",
              "      <td>400</td>\n",
              "    </tr>\n",
              "    <tr>\n",
              "      <th>1</th>\n",
              "      <td>905</td>\n",
              "      <td>980</td>\n",
              "      <td>50</td>\n",
              "    </tr>\n",
              "    <tr>\n",
              "      <th>2</th>\n",
              "      <td>721</td>\n",
              "      <td>41</td>\n",
              "      <td>39</td>\n",
              "    </tr>\n",
              "    <tr>\n",
              "      <th>3</th>\n",
              "      <td>98</td>\n",
              "      <td>1200</td>\n",
              "      <td>40</td>\n",
              "    </tr>\n",
              "  </tbody>\n",
              "</table>\n",
              "</div>"
            ],
            "text/plain": [
              "   Gene_ID  Case  Control\n",
              "0      104    10      400\n",
              "1      905   980       50\n",
              "2      721    41       39\n",
              "3       98  1200       40"
            ]
          },
          "metadata": {
            "tags": []
          },
          "execution_count": 10
        }
      ]
    },
    {
      "cell_type": "markdown",
      "metadata": {
        "id": "y5nEOKBp4JD0",
        "colab_type": "text"
      },
      "source": [
        "`table2.csv` を読み込んで、 `df2` とします。\n",
        "\n",
        "**（⚠️ パスは自分の環境に合わせて変えてください！）**"
      ]
    },
    {
      "cell_type": "code",
      "metadata": {
        "id": "DjbF5cCf1WyI",
        "colab_type": "code",
        "colab": {
          "base_uri": "https://localhost:8080/",
          "height": 204
        },
        "outputId": "a974d4ff-8473-4a70-edef-d8b9651613b8"
      },
      "source": [
        "df2 = pd.read_csv('/content/drive/My Drive/2020 L-1　情報科学・数理科学を用いた医学研究/06/table2.csv')\n",
        "\n",
        "df2"
      ],
      "execution_count": 11,
      "outputs": [
        {
          "output_type": "execute_result",
          "data": {
            "text/html": [
              "<div>\n",
              "<style scoped>\n",
              "    .dataframe tbody tr th:only-of-type {\n",
              "        vertical-align: middle;\n",
              "    }\n",
              "\n",
              "    .dataframe tbody tr th {\n",
              "        vertical-align: top;\n",
              "    }\n",
              "\n",
              "    .dataframe thead th {\n",
              "        text-align: right;\n",
              "    }\n",
              "</style>\n",
              "<table border=\"1\" class=\"dataframe\">\n",
              "  <thead>\n",
              "    <tr style=\"text-align: right;\">\n",
              "      <th></th>\n",
              "      <th>Pathway</th>\n",
              "      <th>Gene_ID</th>\n",
              "    </tr>\n",
              "  </thead>\n",
              "  <tbody>\n",
              "    <tr>\n",
              "      <th>0</th>\n",
              "      <td>Pathway A</td>\n",
              "      <td>104</td>\n",
              "    </tr>\n",
              "    <tr>\n",
              "      <th>1</th>\n",
              "      <td>Pathway B</td>\n",
              "      <td>501</td>\n",
              "    </tr>\n",
              "    <tr>\n",
              "      <th>2</th>\n",
              "      <td>Pathway C</td>\n",
              "      <td>721</td>\n",
              "    </tr>\n",
              "    <tr>\n",
              "      <th>3</th>\n",
              "      <td>Pathway B</td>\n",
              "      <td>98</td>\n",
              "    </tr>\n",
              "    <tr>\n",
              "      <th>4</th>\n",
              "      <td>Pathway C</td>\n",
              "      <td>110</td>\n",
              "    </tr>\n",
              "  </tbody>\n",
              "</table>\n",
              "</div>"
            ],
            "text/plain": [
              "     Pathway  Gene_ID\n",
              "0  Pathway A      104\n",
              "1  Pathway B      501\n",
              "2  Pathway C      721\n",
              "3  Pathway B       98\n",
              "4  Pathway C      110"
            ]
          },
          "metadata": {
            "tags": []
          },
          "execution_count": 11
        }
      ]
    },
    {
      "cell_type": "markdown",
      "metadata": {
        "id": "Yc-56FGD2Wbb",
        "colab_type": "text"
      },
      "source": [
        "以下は、inner join の例です。"
      ]
    },
    {
      "cell_type": "code",
      "metadata": {
        "id": "_JJQM0eA1eei",
        "colab_type": "code",
        "colab": {
          "base_uri": "https://localhost:8080/",
          "height": 142
        },
        "outputId": "df3259d4-3fc4-4ac2-bb9e-5b58ffd0176a"
      },
      "source": [
        "df3 = pd.merge(df1, df2, how='inner', on='Gene_ID')\n",
        "\n",
        "df3"
      ],
      "execution_count": 15,
      "outputs": [
        {
          "output_type": "execute_result",
          "data": {
            "text/html": [
              "<div>\n",
              "<style scoped>\n",
              "    .dataframe tbody tr th:only-of-type {\n",
              "        vertical-align: middle;\n",
              "    }\n",
              "\n",
              "    .dataframe tbody tr th {\n",
              "        vertical-align: top;\n",
              "    }\n",
              "\n",
              "    .dataframe thead th {\n",
              "        text-align: right;\n",
              "    }\n",
              "</style>\n",
              "<table border=\"1\" class=\"dataframe\">\n",
              "  <thead>\n",
              "    <tr style=\"text-align: right;\">\n",
              "      <th></th>\n",
              "      <th>Gene_ID</th>\n",
              "      <th>Case</th>\n",
              "      <th>Control</th>\n",
              "      <th>Pathway</th>\n",
              "    </tr>\n",
              "  </thead>\n",
              "  <tbody>\n",
              "    <tr>\n",
              "      <th>0</th>\n",
              "      <td>104</td>\n",
              "      <td>10</td>\n",
              "      <td>400</td>\n",
              "      <td>Pathway A</td>\n",
              "    </tr>\n",
              "    <tr>\n",
              "      <th>1</th>\n",
              "      <td>721</td>\n",
              "      <td>41</td>\n",
              "      <td>39</td>\n",
              "      <td>Pathway C</td>\n",
              "    </tr>\n",
              "    <tr>\n",
              "      <th>2</th>\n",
              "      <td>98</td>\n",
              "      <td>1200</td>\n",
              "      <td>40</td>\n",
              "      <td>Pathway B</td>\n",
              "    </tr>\n",
              "  </tbody>\n",
              "</table>\n",
              "</div>"
            ],
            "text/plain": [
              "   Gene_ID  Case  Control    Pathway\n",
              "0      104    10      400  Pathway A\n",
              "1      721    41       39  Pathway C\n",
              "2       98  1200       40  Pathway B"
            ]
          },
          "metadata": {
            "tags": []
          },
          "execution_count": 15
        }
      ]
    },
    {
      "cell_type": "markdown",
      "metadata": {
        "id": "FMnwj_c-2c0I",
        "colab_type": "text"
      },
      "source": [
        "以下は、 left join の例です。"
      ]
    },
    {
      "cell_type": "code",
      "metadata": {
        "id": "eeaLfO352QOm",
        "colab_type": "code",
        "colab": {
          "base_uri": "https://localhost:8080/",
          "height": 173
        },
        "outputId": "4123aaa3-401c-4004-df0e-6a91ed34bade"
      },
      "source": [
        "df4 = pd.merge(df1, df2, how='left', on='Gene_ID')\n",
        "\n",
        "df4"
      ],
      "execution_count": 17,
      "outputs": [
        {
          "output_type": "execute_result",
          "data": {
            "text/html": [
              "<div>\n",
              "<style scoped>\n",
              "    .dataframe tbody tr th:only-of-type {\n",
              "        vertical-align: middle;\n",
              "    }\n",
              "\n",
              "    .dataframe tbody tr th {\n",
              "        vertical-align: top;\n",
              "    }\n",
              "\n",
              "    .dataframe thead th {\n",
              "        text-align: right;\n",
              "    }\n",
              "</style>\n",
              "<table border=\"1\" class=\"dataframe\">\n",
              "  <thead>\n",
              "    <tr style=\"text-align: right;\">\n",
              "      <th></th>\n",
              "      <th>Gene_ID</th>\n",
              "      <th>Case</th>\n",
              "      <th>Control</th>\n",
              "      <th>Pathway</th>\n",
              "    </tr>\n",
              "  </thead>\n",
              "  <tbody>\n",
              "    <tr>\n",
              "      <th>0</th>\n",
              "      <td>104</td>\n",
              "      <td>10</td>\n",
              "      <td>400</td>\n",
              "      <td>Pathway A</td>\n",
              "    </tr>\n",
              "    <tr>\n",
              "      <th>1</th>\n",
              "      <td>905</td>\n",
              "      <td>980</td>\n",
              "      <td>50</td>\n",
              "      <td>NaN</td>\n",
              "    </tr>\n",
              "    <tr>\n",
              "      <th>2</th>\n",
              "      <td>721</td>\n",
              "      <td>41</td>\n",
              "      <td>39</td>\n",
              "      <td>Pathway C</td>\n",
              "    </tr>\n",
              "    <tr>\n",
              "      <th>3</th>\n",
              "      <td>98</td>\n",
              "      <td>1200</td>\n",
              "      <td>40</td>\n",
              "      <td>Pathway B</td>\n",
              "    </tr>\n",
              "  </tbody>\n",
              "</table>\n",
              "</div>"
            ],
            "text/plain": [
              "   Gene_ID  Case  Control    Pathway\n",
              "0      104    10      400  Pathway A\n",
              "1      905   980       50        NaN\n",
              "2      721    41       39  Pathway C\n",
              "3       98  1200       40  Pathway B"
            ]
          },
          "metadata": {
            "tags": []
          },
          "execution_count": 17
        }
      ]
    },
    {
      "cell_type": "markdown",
      "metadata": {
        "id": "q2L5pq6A2n0e",
        "colab_type": "text"
      },
      "source": [
        "以下は、 right join の例です。"
      ]
    },
    {
      "cell_type": "code",
      "metadata": {
        "id": "GjX0cEx42jxM",
        "colab_type": "code",
        "colab": {
          "base_uri": "https://localhost:8080/",
          "height": 204
        },
        "outputId": "f2738c73-99ee-4545-cf4e-d0a8077c07e9"
      },
      "source": [
        "df5 = pd.merge(df1, df2, how='right', on='Gene_ID')\n",
        "\n",
        "df5"
      ],
      "execution_count": 19,
      "outputs": [
        {
          "output_type": "execute_result",
          "data": {
            "text/html": [
              "<div>\n",
              "<style scoped>\n",
              "    .dataframe tbody tr th:only-of-type {\n",
              "        vertical-align: middle;\n",
              "    }\n",
              "\n",
              "    .dataframe tbody tr th {\n",
              "        vertical-align: top;\n",
              "    }\n",
              "\n",
              "    .dataframe thead th {\n",
              "        text-align: right;\n",
              "    }\n",
              "</style>\n",
              "<table border=\"1\" class=\"dataframe\">\n",
              "  <thead>\n",
              "    <tr style=\"text-align: right;\">\n",
              "      <th></th>\n",
              "      <th>Gene_ID</th>\n",
              "      <th>Case</th>\n",
              "      <th>Control</th>\n",
              "      <th>Pathway</th>\n",
              "    </tr>\n",
              "  </thead>\n",
              "  <tbody>\n",
              "    <tr>\n",
              "      <th>0</th>\n",
              "      <td>104</td>\n",
              "      <td>10.0</td>\n",
              "      <td>400.0</td>\n",
              "      <td>Pathway A</td>\n",
              "    </tr>\n",
              "    <tr>\n",
              "      <th>1</th>\n",
              "      <td>721</td>\n",
              "      <td>41.0</td>\n",
              "      <td>39.0</td>\n",
              "      <td>Pathway C</td>\n",
              "    </tr>\n",
              "    <tr>\n",
              "      <th>2</th>\n",
              "      <td>98</td>\n",
              "      <td>1200.0</td>\n",
              "      <td>40.0</td>\n",
              "      <td>Pathway B</td>\n",
              "    </tr>\n",
              "    <tr>\n",
              "      <th>3</th>\n",
              "      <td>501</td>\n",
              "      <td>NaN</td>\n",
              "      <td>NaN</td>\n",
              "      <td>Pathway B</td>\n",
              "    </tr>\n",
              "    <tr>\n",
              "      <th>4</th>\n",
              "      <td>110</td>\n",
              "      <td>NaN</td>\n",
              "      <td>NaN</td>\n",
              "      <td>Pathway C</td>\n",
              "    </tr>\n",
              "  </tbody>\n",
              "</table>\n",
              "</div>"
            ],
            "text/plain": [
              "   Gene_ID    Case  Control    Pathway\n",
              "0      104    10.0    400.0  Pathway A\n",
              "1      721    41.0     39.0  Pathway C\n",
              "2       98  1200.0     40.0  Pathway B\n",
              "3      501     NaN      NaN  Pathway B\n",
              "4      110     NaN      NaN  Pathway C"
            ]
          },
          "metadata": {
            "tags": []
          },
          "execution_count": 19
        }
      ]
    },
    {
      "cell_type": "markdown",
      "metadata": {
        "id": "4wYJ46uy4U8R",
        "colab_type": "text"
      },
      "source": [
        "以下は、 outer join の例です。"
      ]
    },
    {
      "cell_type": "code",
      "metadata": {
        "id": "6oKto8S92r3I",
        "colab_type": "code",
        "colab": {
          "base_uri": "https://localhost:8080/",
          "height": 235
        },
        "outputId": "0235f289-93bf-40dd-ad8e-0299469ee173"
      },
      "source": [
        "df6 = pd.merge(df1, df2, how='outer', on='Gene_ID')\n",
        "\n",
        "df6"
      ],
      "execution_count": 20,
      "outputs": [
        {
          "output_type": "execute_result",
          "data": {
            "text/html": [
              "<div>\n",
              "<style scoped>\n",
              "    .dataframe tbody tr th:only-of-type {\n",
              "        vertical-align: middle;\n",
              "    }\n",
              "\n",
              "    .dataframe tbody tr th {\n",
              "        vertical-align: top;\n",
              "    }\n",
              "\n",
              "    .dataframe thead th {\n",
              "        text-align: right;\n",
              "    }\n",
              "</style>\n",
              "<table border=\"1\" class=\"dataframe\">\n",
              "  <thead>\n",
              "    <tr style=\"text-align: right;\">\n",
              "      <th></th>\n",
              "      <th>Gene_ID</th>\n",
              "      <th>Case</th>\n",
              "      <th>Control</th>\n",
              "      <th>Pathway</th>\n",
              "    </tr>\n",
              "  </thead>\n",
              "  <tbody>\n",
              "    <tr>\n",
              "      <th>0</th>\n",
              "      <td>104</td>\n",
              "      <td>10.0</td>\n",
              "      <td>400.0</td>\n",
              "      <td>Pathway A</td>\n",
              "    </tr>\n",
              "    <tr>\n",
              "      <th>1</th>\n",
              "      <td>905</td>\n",
              "      <td>980.0</td>\n",
              "      <td>50.0</td>\n",
              "      <td>NaN</td>\n",
              "    </tr>\n",
              "    <tr>\n",
              "      <th>2</th>\n",
              "      <td>721</td>\n",
              "      <td>41.0</td>\n",
              "      <td>39.0</td>\n",
              "      <td>Pathway C</td>\n",
              "    </tr>\n",
              "    <tr>\n",
              "      <th>3</th>\n",
              "      <td>98</td>\n",
              "      <td>1200.0</td>\n",
              "      <td>40.0</td>\n",
              "      <td>Pathway B</td>\n",
              "    </tr>\n",
              "    <tr>\n",
              "      <th>4</th>\n",
              "      <td>501</td>\n",
              "      <td>NaN</td>\n",
              "      <td>NaN</td>\n",
              "      <td>Pathway B</td>\n",
              "    </tr>\n",
              "    <tr>\n",
              "      <th>5</th>\n",
              "      <td>110</td>\n",
              "      <td>NaN</td>\n",
              "      <td>NaN</td>\n",
              "      <td>Pathway C</td>\n",
              "    </tr>\n",
              "  </tbody>\n",
              "</table>\n",
              "</div>"
            ],
            "text/plain": [
              "   Gene_ID    Case  Control    Pathway\n",
              "0      104    10.0    400.0  Pathway A\n",
              "1      905   980.0     50.0        NaN\n",
              "2      721    41.0     39.0  Pathway C\n",
              "3       98  1200.0     40.0  Pathway B\n",
              "4      501     NaN      NaN  Pathway B\n",
              "5      110     NaN      NaN  Pathway C"
            ]
          },
          "metadata": {
            "tags": []
          },
          "execution_count": 20
        }
      ]
    }
  ]
}